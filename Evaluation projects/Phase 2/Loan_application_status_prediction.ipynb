{
 "cells": [
  {
   "cell_type": "markdown",
   "id": "a39e73b9",
   "metadata": {},
   "source": [
    "# Loan application status prediction"
   ]
  },
  {
   "cell_type": "markdown",
   "id": "cfe532cc",
   "metadata": {},
   "source": [
    "In this problem statement we need to build a machine learning model that can predict that whether the loan will be approved or not based on different inputs."
   ]
  },
  {
   "cell_type": "markdown",
   "id": "30e384c3",
   "metadata": {},
   "source": [
    "## Loading Dataset"
   ]
  },
  {
   "cell_type": "code",
   "execution_count": 1,
   "id": "7d462cda",
   "metadata": {},
   "outputs": [],
   "source": [
    "# importing required libraries\n",
    "\n",
    "import pandas as pd    # for data wrangling\n",
    "\n",
    "import numpy as np   # to handle arrays\n",
    "\n",
    "import matplotlib.pyplot as plt   # for plotting graphs\n",
    "\n",
    "import seaborn as sns     # to plot graphs for analysis\n",
    "\n",
    "import warnings    # to detect unnecessary warnings\n",
    "warnings.filterwarnings('ignore')    # this will ignore unnecessary warnings"
   ]
  },
  {
   "cell_type": "code",
   "execution_count": 2,
   "id": "86da6821",
   "metadata": {},
   "outputs": [],
   "source": [
    "# loading dataframe\n",
    "loan = pd.read_csv('loan_application_status.csv')"
   ]
  },
  {
   "cell_type": "markdown",
   "id": "8084a2ac",
   "metadata": {},
   "source": [
    "### Data analysis"
   ]
  },
  {
   "cell_type": "code",
   "execution_count": 3,
   "id": "94342a50",
   "metadata": {},
   "outputs": [
    {
     "data": {
      "text/plain": [
       "(614, 13)"
      ]
     },
     "execution_count": 3,
     "metadata": {},
     "output_type": "execute_result"
    }
   ],
   "source": [
    "# checking shape of data\n",
    "loan.shape"
   ]
  },
  {
   "cell_type": "markdown",
   "id": "3f8c2ae9",
   "metadata": {},
   "source": [
    "*There are 614 rows and 13 columns in the dataset.*"
   ]
  },
  {
   "cell_type": "code",
   "execution_count": 4,
   "id": "58e0df18",
   "metadata": {},
   "outputs": [
    {
     "data": {
      "text/html": [
       "<div>\n",
       "<style scoped>\n",
       "    .dataframe tbody tr th:only-of-type {\n",
       "        vertical-align: middle;\n",
       "    }\n",
       "\n",
       "    .dataframe tbody tr th {\n",
       "        vertical-align: top;\n",
       "    }\n",
       "\n",
       "    .dataframe thead th {\n",
       "        text-align: right;\n",
       "    }\n",
       "</style>\n",
       "<table border=\"1\" class=\"dataframe\">\n",
       "  <thead>\n",
       "    <tr style=\"text-align: right;\">\n",
       "      <th></th>\n",
       "      <th>Loan_ID</th>\n",
       "      <th>Gender</th>\n",
       "      <th>Married</th>\n",
       "      <th>Dependents</th>\n",
       "      <th>Education</th>\n",
       "      <th>Self_Employed</th>\n",
       "      <th>ApplicantIncome</th>\n",
       "      <th>CoapplicantIncome</th>\n",
       "      <th>LoanAmount</th>\n",
       "      <th>Loan_Amount_Term</th>\n",
       "      <th>Credit_History</th>\n",
       "      <th>Property_Area</th>\n",
       "      <th>Loan_Status</th>\n",
       "    </tr>\n",
       "  </thead>\n",
       "  <tbody>\n",
       "    <tr>\n",
       "      <th>0</th>\n",
       "      <td>LP001002</td>\n",
       "      <td>Male</td>\n",
       "      <td>No</td>\n",
       "      <td>0</td>\n",
       "      <td>Graduate</td>\n",
       "      <td>No</td>\n",
       "      <td>5849</td>\n",
       "      <td>0.0</td>\n",
       "      <td>NaN</td>\n",
       "      <td>360.0</td>\n",
       "      <td>1.0</td>\n",
       "      <td>Urban</td>\n",
       "      <td>Y</td>\n",
       "    </tr>\n",
       "    <tr>\n",
       "      <th>1</th>\n",
       "      <td>LP001003</td>\n",
       "      <td>Male</td>\n",
       "      <td>Yes</td>\n",
       "      <td>1</td>\n",
       "      <td>Graduate</td>\n",
       "      <td>No</td>\n",
       "      <td>4583</td>\n",
       "      <td>1508.0</td>\n",
       "      <td>128.0</td>\n",
       "      <td>360.0</td>\n",
       "      <td>1.0</td>\n",
       "      <td>Rural</td>\n",
       "      <td>N</td>\n",
       "    </tr>\n",
       "    <tr>\n",
       "      <th>2</th>\n",
       "      <td>LP001005</td>\n",
       "      <td>Male</td>\n",
       "      <td>Yes</td>\n",
       "      <td>0</td>\n",
       "      <td>Graduate</td>\n",
       "      <td>Yes</td>\n",
       "      <td>3000</td>\n",
       "      <td>0.0</td>\n",
       "      <td>66.0</td>\n",
       "      <td>360.0</td>\n",
       "      <td>1.0</td>\n",
       "      <td>Urban</td>\n",
       "      <td>Y</td>\n",
       "    </tr>\n",
       "    <tr>\n",
       "      <th>3</th>\n",
       "      <td>LP001006</td>\n",
       "      <td>Male</td>\n",
       "      <td>Yes</td>\n",
       "      <td>0</td>\n",
       "      <td>Not Graduate</td>\n",
       "      <td>No</td>\n",
       "      <td>2583</td>\n",
       "      <td>2358.0</td>\n",
       "      <td>120.0</td>\n",
       "      <td>360.0</td>\n",
       "      <td>1.0</td>\n",
       "      <td>Urban</td>\n",
       "      <td>Y</td>\n",
       "    </tr>\n",
       "    <tr>\n",
       "      <th>4</th>\n",
       "      <td>LP001008</td>\n",
       "      <td>Male</td>\n",
       "      <td>No</td>\n",
       "      <td>0</td>\n",
       "      <td>Graduate</td>\n",
       "      <td>No</td>\n",
       "      <td>6000</td>\n",
       "      <td>0.0</td>\n",
       "      <td>141.0</td>\n",
       "      <td>360.0</td>\n",
       "      <td>1.0</td>\n",
       "      <td>Urban</td>\n",
       "      <td>Y</td>\n",
       "    </tr>\n",
       "    <tr>\n",
       "      <th>5</th>\n",
       "      <td>LP001011</td>\n",
       "      <td>Male</td>\n",
       "      <td>Yes</td>\n",
       "      <td>2</td>\n",
       "      <td>Graduate</td>\n",
       "      <td>Yes</td>\n",
       "      <td>5417</td>\n",
       "      <td>4196.0</td>\n",
       "      <td>267.0</td>\n",
       "      <td>360.0</td>\n",
       "      <td>1.0</td>\n",
       "      <td>Urban</td>\n",
       "      <td>Y</td>\n",
       "    </tr>\n",
       "    <tr>\n",
       "      <th>6</th>\n",
       "      <td>LP001013</td>\n",
       "      <td>Male</td>\n",
       "      <td>Yes</td>\n",
       "      <td>0</td>\n",
       "      <td>Not Graduate</td>\n",
       "      <td>No</td>\n",
       "      <td>2333</td>\n",
       "      <td>1516.0</td>\n",
       "      <td>95.0</td>\n",
       "      <td>360.0</td>\n",
       "      <td>1.0</td>\n",
       "      <td>Urban</td>\n",
       "      <td>Y</td>\n",
       "    </tr>\n",
       "    <tr>\n",
       "      <th>7</th>\n",
       "      <td>LP001014</td>\n",
       "      <td>Male</td>\n",
       "      <td>Yes</td>\n",
       "      <td>3+</td>\n",
       "      <td>Graduate</td>\n",
       "      <td>No</td>\n",
       "      <td>3036</td>\n",
       "      <td>2504.0</td>\n",
       "      <td>158.0</td>\n",
       "      <td>360.0</td>\n",
       "      <td>0.0</td>\n",
       "      <td>Semiurban</td>\n",
       "      <td>N</td>\n",
       "    </tr>\n",
       "    <tr>\n",
       "      <th>8</th>\n",
       "      <td>LP001018</td>\n",
       "      <td>Male</td>\n",
       "      <td>Yes</td>\n",
       "      <td>2</td>\n",
       "      <td>Graduate</td>\n",
       "      <td>No</td>\n",
       "      <td>4006</td>\n",
       "      <td>1526.0</td>\n",
       "      <td>168.0</td>\n",
       "      <td>360.0</td>\n",
       "      <td>1.0</td>\n",
       "      <td>Urban</td>\n",
       "      <td>Y</td>\n",
       "    </tr>\n",
       "    <tr>\n",
       "      <th>9</th>\n",
       "      <td>LP001020</td>\n",
       "      <td>Male</td>\n",
       "      <td>Yes</td>\n",
       "      <td>1</td>\n",
       "      <td>Graduate</td>\n",
       "      <td>No</td>\n",
       "      <td>12841</td>\n",
       "      <td>10968.0</td>\n",
       "      <td>349.0</td>\n",
       "      <td>360.0</td>\n",
       "      <td>1.0</td>\n",
       "      <td>Semiurban</td>\n",
       "      <td>N</td>\n",
       "    </tr>\n",
       "  </tbody>\n",
       "</table>\n",
       "</div>"
      ],
      "text/plain": [
       "    Loan_ID Gender Married Dependents     Education Self_Employed  \\\n",
       "0  LP001002   Male      No          0      Graduate            No   \n",
       "1  LP001003   Male     Yes          1      Graduate            No   \n",
       "2  LP001005   Male     Yes          0      Graduate           Yes   \n",
       "3  LP001006   Male     Yes          0  Not Graduate            No   \n",
       "4  LP001008   Male      No          0      Graduate            No   \n",
       "5  LP001011   Male     Yes          2      Graduate           Yes   \n",
       "6  LP001013   Male     Yes          0  Not Graduate            No   \n",
       "7  LP001014   Male     Yes         3+      Graduate            No   \n",
       "8  LP001018   Male     Yes          2      Graduate            No   \n",
       "9  LP001020   Male     Yes          1      Graduate            No   \n",
       "\n",
       "   ApplicantIncome  CoapplicantIncome  LoanAmount  Loan_Amount_Term  \\\n",
       "0             5849                0.0         NaN             360.0   \n",
       "1             4583             1508.0       128.0             360.0   \n",
       "2             3000                0.0        66.0             360.0   \n",
       "3             2583             2358.0       120.0             360.0   \n",
       "4             6000                0.0       141.0             360.0   \n",
       "5             5417             4196.0       267.0             360.0   \n",
       "6             2333             1516.0        95.0             360.0   \n",
       "7             3036             2504.0       158.0             360.0   \n",
       "8             4006             1526.0       168.0             360.0   \n",
       "9            12841            10968.0       349.0             360.0   \n",
       "\n",
       "   Credit_History Property_Area Loan_Status  \n",
       "0             1.0         Urban           Y  \n",
       "1             1.0         Rural           N  \n",
       "2             1.0         Urban           Y  \n",
       "3             1.0         Urban           Y  \n",
       "4             1.0         Urban           Y  \n",
       "5             1.0         Urban           Y  \n",
       "6             1.0         Urban           Y  \n",
       "7             0.0     Semiurban           N  \n",
       "8             1.0         Urban           Y  \n",
       "9             1.0     Semiurban           N  "
      ]
     },
     "execution_count": 4,
     "metadata": {},
     "output_type": "execute_result"
    }
   ],
   "source": [
    "# loading top 10 rows of dataframe to take an overview of it\n",
    "loan.head(10)"
   ]
  },
  {
   "cell_type": "markdown",
   "id": "2f494a75",
   "metadata": {},
   "source": [
    "#### Data types"
   ]
  },
  {
   "cell_type": "code",
   "execution_count": 5,
   "id": "121cc31f",
   "metadata": {},
   "outputs": [
    {
     "data": {
      "text/plain": [
       "Loan_ID               object\n",
       "Gender                object\n",
       "Married               object\n",
       "Dependents            object\n",
       "Education             object\n",
       "Self_Employed         object\n",
       "ApplicantIncome        int64\n",
       "CoapplicantIncome    float64\n",
       "LoanAmount           float64\n",
       "Loan_Amount_Term     float64\n",
       "Credit_History       float64\n",
       "Property_Area         object\n",
       "Loan_Status           object\n",
       "dtype: object"
      ]
     },
     "execution_count": 5,
     "metadata": {},
     "output_type": "execute_result"
    }
   ],
   "source": [
    "# checking data types of columns\n",
    "loan.dtypes"
   ]
  },
  {
   "cell_type": "markdown",
   "id": "03fc454f",
   "metadata": {},
   "source": [
    "*Most columns contains object data type.*"
   ]
  },
  {
   "cell_type": "markdown",
   "id": "5139c5d7",
   "metadata": {},
   "source": [
    "#### Nan Values"
   ]
  },
  {
   "cell_type": "code",
   "execution_count": 6,
   "id": "f460f9c5",
   "metadata": {},
   "outputs": [
    {
     "data": {
      "text/plain": [
       "Loan_ID               0\n",
       "Gender               13\n",
       "Married               3\n",
       "Dependents           15\n",
       "Education             0\n",
       "Self_Employed        32\n",
       "ApplicantIncome       0\n",
       "CoapplicantIncome     0\n",
       "LoanAmount           22\n",
       "Loan_Amount_Term     14\n",
       "Credit_History       50\n",
       "Property_Area         0\n",
       "Loan_Status           0\n",
       "dtype: int64"
      ]
     },
     "execution_count": 6,
     "metadata": {},
     "output_type": "execute_result"
    }
   ],
   "source": [
    "# checking for nan values in data\n",
    "loan.isnull().sum()"
   ]
  },
  {
   "cell_type": "markdown",
   "id": "ae92bfdd",
   "metadata": {},
   "source": [
    "*There are some columns which contains null values we will fill them accordingly.*"
   ]
  },
  {
   "cell_type": "markdown",
   "id": "65413c63",
   "metadata": {},
   "source": [
    "#### Unique values"
   ]
  },
  {
   "cell_type": "code",
   "execution_count": 7,
   "id": "a73719be",
   "metadata": {},
   "outputs": [],
   "source": [
    "# checking for unique values present in categorical column\n",
    "\n",
    "# first we will make a list of all categorical columns\n",
    "# we will use list concatenation for this\n",
    "obj = [i for i in loan.columns if loan[i].dtypes == 'O']"
   ]
  },
  {
   "cell_type": "code",
   "execution_count": 8,
   "id": "03779eef",
   "metadata": {},
   "outputs": [
    {
     "name": "stdout",
     "output_type": "stream",
     "text": [
      "There are 614 unique values present in Loan_ID column\n",
      "There are 2 unique values present in Gender column\n",
      "There are 2 unique values present in Married column\n",
      "There are 4 unique values present in Dependents column\n",
      "There are 2 unique values present in Education column\n",
      "There are 2 unique values present in Self_Employed column\n",
      "There are 3 unique values present in Property_Area column\n",
      "There are 2 unique values present in Loan_Status column\n"
     ]
    }
   ],
   "source": [
    "# now we will check for unique values using for loop \n",
    "for i in obj:\n",
    "    uni = loan[i].nunique()\n",
    "    print('There are', uni, 'unique values present in', i, 'column')"
   ]
  },
  {
   "cell_type": "markdown",
   "id": "d2de2e11",
   "metadata": {},
   "source": [
    "*Here we can see the Loan_ID is unique for every row so we will drop that column.*"
   ]
  },
  {
   "cell_type": "markdown",
   "id": "e2bd2c7f",
   "metadata": {},
   "source": [
    "#### Statistical summary"
   ]
  },
  {
   "cell_type": "code",
   "execution_count": 9,
   "id": "51cef3b3",
   "metadata": {},
   "outputs": [
    {
     "data": {
      "text/html": [
       "<div>\n",
       "<style scoped>\n",
       "    .dataframe tbody tr th:only-of-type {\n",
       "        vertical-align: middle;\n",
       "    }\n",
       "\n",
       "    .dataframe tbody tr th {\n",
       "        vertical-align: top;\n",
       "    }\n",
       "\n",
       "    .dataframe thead th {\n",
       "        text-align: right;\n",
       "    }\n",
       "</style>\n",
       "<table border=\"1\" class=\"dataframe\">\n",
       "  <thead>\n",
       "    <tr style=\"text-align: right;\">\n",
       "      <th></th>\n",
       "      <th>ApplicantIncome</th>\n",
       "      <th>CoapplicantIncome</th>\n",
       "      <th>LoanAmount</th>\n",
       "      <th>Loan_Amount_Term</th>\n",
       "      <th>Credit_History</th>\n",
       "    </tr>\n",
       "  </thead>\n",
       "  <tbody>\n",
       "    <tr>\n",
       "      <th>count</th>\n",
       "      <td>614.000000</td>\n",
       "      <td>614.000000</td>\n",
       "      <td>592.000000</td>\n",
       "      <td>600.00000</td>\n",
       "      <td>564.000000</td>\n",
       "    </tr>\n",
       "    <tr>\n",
       "      <th>mean</th>\n",
       "      <td>5403.459283</td>\n",
       "      <td>1621.245798</td>\n",
       "      <td>146.412162</td>\n",
       "      <td>342.00000</td>\n",
       "      <td>0.842199</td>\n",
       "    </tr>\n",
       "    <tr>\n",
       "      <th>std</th>\n",
       "      <td>6109.041673</td>\n",
       "      <td>2926.248369</td>\n",
       "      <td>85.587325</td>\n",
       "      <td>65.12041</td>\n",
       "      <td>0.364878</td>\n",
       "    </tr>\n",
       "    <tr>\n",
       "      <th>min</th>\n",
       "      <td>150.000000</td>\n",
       "      <td>0.000000</td>\n",
       "      <td>9.000000</td>\n",
       "      <td>12.00000</td>\n",
       "      <td>0.000000</td>\n",
       "    </tr>\n",
       "    <tr>\n",
       "      <th>25%</th>\n",
       "      <td>2877.500000</td>\n",
       "      <td>0.000000</td>\n",
       "      <td>100.000000</td>\n",
       "      <td>360.00000</td>\n",
       "      <td>1.000000</td>\n",
       "    </tr>\n",
       "    <tr>\n",
       "      <th>50%</th>\n",
       "      <td>3812.500000</td>\n",
       "      <td>1188.500000</td>\n",
       "      <td>128.000000</td>\n",
       "      <td>360.00000</td>\n",
       "      <td>1.000000</td>\n",
       "    </tr>\n",
       "    <tr>\n",
       "      <th>75%</th>\n",
       "      <td>5795.000000</td>\n",
       "      <td>2297.250000</td>\n",
       "      <td>168.000000</td>\n",
       "      <td>360.00000</td>\n",
       "      <td>1.000000</td>\n",
       "    </tr>\n",
       "    <tr>\n",
       "      <th>max</th>\n",
       "      <td>81000.000000</td>\n",
       "      <td>41667.000000</td>\n",
       "      <td>700.000000</td>\n",
       "      <td>480.00000</td>\n",
       "      <td>1.000000</td>\n",
       "    </tr>\n",
       "  </tbody>\n",
       "</table>\n",
       "</div>"
      ],
      "text/plain": [
       "       ApplicantIncome  CoapplicantIncome  LoanAmount  Loan_Amount_Term  \\\n",
       "count       614.000000         614.000000  592.000000         600.00000   \n",
       "mean       5403.459283        1621.245798  146.412162         342.00000   \n",
       "std        6109.041673        2926.248369   85.587325          65.12041   \n",
       "min         150.000000           0.000000    9.000000          12.00000   \n",
       "25%        2877.500000           0.000000  100.000000         360.00000   \n",
       "50%        3812.500000        1188.500000  128.000000         360.00000   \n",
       "75%        5795.000000        2297.250000  168.000000         360.00000   \n",
       "max       81000.000000       41667.000000  700.000000         480.00000   \n",
       "\n",
       "       Credit_History  \n",
       "count      564.000000  \n",
       "mean         0.842199  \n",
       "std          0.364878  \n",
       "min          0.000000  \n",
       "25%          1.000000  \n",
       "50%          1.000000  \n",
       "75%          1.000000  \n",
       "max          1.000000  "
      ]
     },
     "execution_count": 9,
     "metadata": {},
     "output_type": "execute_result"
    }
   ],
   "source": [
    "# checking statistical summary of numerical data\n",
    "static = loan.describe()\n",
    "static"
   ]
  },
  {
   "cell_type": "markdown",
   "id": "ae99efa4",
   "metadata": {},
   "source": [
    "Observations: \n",
    "      \n",
    "       1: Few Columns have greater mean than median means data is skewed.\n",
    "\n",
    "       2: There is huge difference between 75th percentile and maximum value in some columns so there is chances of \n",
    "       outliers."
   ]
  },
  {
   "cell_type": "code",
   "execution_count": 10,
   "id": "488117d4",
   "metadata": {},
   "outputs": [
    {
     "data": {
      "text/html": [
       "<div>\n",
       "<style scoped>\n",
       "    .dataframe tbody tr th:only-of-type {\n",
       "        vertical-align: middle;\n",
       "    }\n",
       "\n",
       "    .dataframe tbody tr th {\n",
       "        vertical-align: top;\n",
       "    }\n",
       "\n",
       "    .dataframe thead th {\n",
       "        text-align: right;\n",
       "    }\n",
       "</style>\n",
       "<table border=\"1\" class=\"dataframe\">\n",
       "  <thead>\n",
       "    <tr style=\"text-align: right;\">\n",
       "      <th></th>\n",
       "      <th>Loan_ID</th>\n",
       "      <th>Gender</th>\n",
       "      <th>Married</th>\n",
       "      <th>Dependents</th>\n",
       "      <th>Education</th>\n",
       "      <th>Self_Employed</th>\n",
       "      <th>Property_Area</th>\n",
       "      <th>Loan_Status</th>\n",
       "    </tr>\n",
       "  </thead>\n",
       "  <tbody>\n",
       "    <tr>\n",
       "      <th>count</th>\n",
       "      <td>614</td>\n",
       "      <td>601</td>\n",
       "      <td>611</td>\n",
       "      <td>599</td>\n",
       "      <td>614</td>\n",
       "      <td>582</td>\n",
       "      <td>614</td>\n",
       "      <td>614</td>\n",
       "    </tr>\n",
       "    <tr>\n",
       "      <th>unique</th>\n",
       "      <td>614</td>\n",
       "      <td>2</td>\n",
       "      <td>2</td>\n",
       "      <td>4</td>\n",
       "      <td>2</td>\n",
       "      <td>2</td>\n",
       "      <td>3</td>\n",
       "      <td>2</td>\n",
       "    </tr>\n",
       "    <tr>\n",
       "      <th>top</th>\n",
       "      <td>LP001002</td>\n",
       "      <td>Male</td>\n",
       "      <td>Yes</td>\n",
       "      <td>0</td>\n",
       "      <td>Graduate</td>\n",
       "      <td>No</td>\n",
       "      <td>Semiurban</td>\n",
       "      <td>Y</td>\n",
       "    </tr>\n",
       "    <tr>\n",
       "      <th>freq</th>\n",
       "      <td>1</td>\n",
       "      <td>489</td>\n",
       "      <td>398</td>\n",
       "      <td>345</td>\n",
       "      <td>480</td>\n",
       "      <td>500</td>\n",
       "      <td>233</td>\n",
       "      <td>422</td>\n",
       "    </tr>\n",
       "  </tbody>\n",
       "</table>\n",
       "</div>"
      ],
      "text/plain": [
       "         Loan_ID Gender Married Dependents Education Self_Employed  \\\n",
       "count        614    601     611        599       614           582   \n",
       "unique       614      2       2          4         2             2   \n",
       "top     LP001002   Male     Yes          0  Graduate            No   \n",
       "freq           1    489     398        345       480           500   \n",
       "\n",
       "       Property_Area Loan_Status  \n",
       "count            614         614  \n",
       "unique             3           2  \n",
       "top        Semiurban           Y  \n",
       "freq             233         422  "
      ]
     },
     "execution_count": 10,
     "metadata": {},
     "output_type": "execute_result"
    }
   ],
   "source": [
    "# checking summary of object data\n",
    "obj_summary = loan.describe(include=['O'])\n",
    "obj_summary"
   ]
  },
  {
   "cell_type": "markdown",
   "id": "e94cf99d",
   "metadata": {},
   "source": [
    "*All columns contains 2 to 4 unique values except Loan_ID that is unique for every data.*"
   ]
  },
  {
   "cell_type": "markdown",
   "id": "c27ed5e5",
   "metadata": {},
   "source": [
    "#### Skewness"
   ]
  },
  {
   "cell_type": "code",
   "execution_count": 11,
   "id": "ae616fc7",
   "metadata": {},
   "outputs": [
    {
     "data": {
      "text/plain": [
       "ApplicantIncome      6.539513\n",
       "CoapplicantIncome    7.491531\n",
       "LoanAmount           2.677552\n",
       "Loan_Amount_Term    -2.362414\n",
       "Credit_History      -1.882361\n",
       "dtype: float64"
      ]
     },
     "execution_count": 11,
     "metadata": {},
     "output_type": "execute_result"
    }
   ],
   "source": [
    "# checking skewness present in numeric data\n",
    "skew = loan.skew()\n",
    "skew"
   ]
  },
  {
   "cell_type": "markdown",
   "id": "b012234f",
   "metadata": {},
   "source": [
    "*There is high skewness present in data we will analyse them through graph.*"
   ]
  },
  {
   "cell_type": "markdown",
   "id": "a87843ef",
   "metadata": {},
   "source": [
    "#### Imbalance"
   ]
  },
  {
   "cell_type": "code",
   "execution_count": 12,
   "id": "00475b80",
   "metadata": {},
   "outputs": [
    {
     "data": {
      "text/plain": [
       "Y    68.729642\n",
       "N    31.270358\n",
       "Name: Loan_Status, dtype: float64"
      ]
     },
     "execution_count": 12,
     "metadata": {},
     "output_type": "execute_result"
    }
   ],
   "source": [
    "# checking the distribution of categorical variable in target column\n",
    "loan['Loan_Status'].value_counts(normalize = True)*100"
   ]
  },
  {
   "cell_type": "markdown",
   "id": "a5a2e9f8",
   "metadata": {},
   "source": [
    "*There is more than 60% data contains same type so we need to balance our dataset otherwise model may biased towards one.*"
   ]
  },
  {
   "cell_type": "markdown",
   "id": "8b9da86c",
   "metadata": {},
   "source": [
    "### Data Visualisation"
   ]
  },
  {
   "cell_type": "markdown",
   "id": "12a6daa9",
   "metadata": {},
   "source": [
    "#### Distribution of data"
   ]
  },
  {
   "cell_type": "code",
   "execution_count": 13,
   "id": "a530346f",
   "metadata": {
    "scrolled": false
   },
   "outputs": [
    {
     "data": {
      "image/png": "[encoded data removed]",
      "text/plain": [
       "<Figure size 432x288 with 1 Axes>"
      ]
     },
     "metadata": {
      "needs_background": "light"
     },
     "output_type": "display_data"
    },
    {
     "name": "stdout",
     "output_type": "stream",
     "text": [
      "\n",
      "\n"
     ]
    },
    {
     "data": {
      "image/png": "[encoded data removed]",
      "text/plain": [
       "<Figure size 432x288 with 1 Axes>"
      ]
     },
     "metadata": {
      "needs_background": "light"
     },
     "output_type": "display_data"
    },
    {
     "name": "stdout",
     "output_type": "stream",
     "text": [
      "\n",
      "\n"
     ]
    },
    {
     "data": {
      "image/png": "[encoded data removed]",
      "text/plain": [
       "<Figure size 432x288 with 1 Axes>"
      ]
     },
     "metadata": {
      "needs_background": "light"
     },
     "output_type": "display_data"
    },
    {
     "name": "stdout",
     "output_type": "stream",
     "text": [
      "\n",
      "\n"
     ]
    },
    {
     "data": {
      "image/png": "[encoded data removed]",
      "text/plain": [
       "<Figure size 432x288 with 1 Axes>"
      ]
     },
     "metadata": {
      "needs_background": "light"
     },
     "output_type": "display_data"
    },
    {
     "name": "stdout",
     "output_type": "stream",
     "text": [
      "\n",
      "\n"
     ]
    },
    {
     "data": {
      "image/png": "[encoded data removed]",
      "text/plain": [
       "<Figure size 432x288 with 1 Axes>"
      ]
     },
     "metadata": {
      "needs_background": "light"
     },
     "output_type": "display_data"
    },
    {
     "name": "stdout",
     "output_type": "stream",
     "text": [
      "\n",
      "\n"
     ]
    }
   ],
   "source": [
    "# checking distribution of numeric data\n",
    "# we will make a list of numeric column using list concatenation\n",
    "numeric = [i for i in loan.columns if loan[i].dtypes != 'O']\n",
    "\n",
    "# using for loop to plot graph\n",
    "# we will use distplot to check the distribution\n",
    "for i in numeric:\n",
    "    plt.title(i)\n",
    "    sns.distplot(loan[i])\n",
    "    plt.show()\n",
    "    print('\\n')"
   ]
  },
  {
   "cell_type": "markdown",
   "id": "fa174960",
   "metadata": {},
   "source": [
    "**Observation: Some columns have right skewed data and some have left skewed data.**"
   ]
  },
  {
   "cell_type": "markdown",
   "id": "1a35eee9",
   "metadata": {},
   "source": [
    "#### Categrical Features"
   ]
  },
  {
   "cell_type": "code",
   "execution_count": 14,
   "id": "43b9014c",
   "metadata": {
    "scrolled": false
   },
   "outputs": [
    {
     "data": {
      "image/png": "[encoded data removed]",
      "text/plain": [
       "<Figure size 432x288 with 1 Axes>"
      ]
     },
     "metadata": {
      "needs_background": "light"
     },
     "output_type": "display_data"
    },
    {
     "name": "stdout",
     "output_type": "stream",
     "text": [
      "\n",
      "\n"
     ]
    },
    {
     "data": {
      "image/png": "[encoded data removed]",
      "text/plain": [
       "<Figure size 432x288 with 1 Axes>"
      ]
     },
     "metadata": {
      "needs_background": "light"
     },
     "output_type": "display_data"
    },
    {
     "name": "stdout",
     "output_type": "stream",
     "text": [
      "\n",
      "\n"
     ]
    },
    {
     "data": {
      "image/png": "[encoded data removed]",
      "text/plain": [
       "<Figure size 432x288 with 1 Axes>"
      ]
     },
     "metadata": {
      "needs_background": "light"
     },
     "output_type": "display_data"
    },
    {
     "name": "stdout",
     "output_type": "stream",
     "text": [
      "\n",
      "\n"
     ]
    },
    {
     "data": {
      "image/png": "[encoded data removed]",
      "text/plain": [
       "<Figure size 432x288 with 1 Axes>"
      ]
     },
     "metadata": {
      "needs_background": "light"
     },
     "output_type": "display_data"
    },
    {
     "name": "stdout",
     "output_type": "stream",
     "text": [
      "\n",
      "\n"
     ]
    },
    {
     "data": {
      "image/png": "[encoded data removed]",
      "text/plain": [
       "<Figure size 432x288 with 1 Axes>"
      ]
     },
     "metadata": {
      "needs_background": "light"
     },
     "output_type": "display_data"
    },
    {
     "name": "stdout",
     "output_type": "stream",
     "text": [
      "\n",
      "\n"
     ]
    },
    {
     "data": {
      "image/png": "[encoded data removed]",
      "text/plain": [
       "<Figure size 432x288 with 1 Axes>"
      ]
     },
     "metadata": {
      "needs_background": "light"
     },
     "output_type": "display_data"
    },
    {
     "name": "stdout",
     "output_type": "stream",
     "text": [
      "\n",
      "\n"
     ]
    },
    {
     "data": {
      "image/png": "[encoded data removed]",
      "text/plain": [
       "<Figure size 432x288 with 1 Axes>"
      ]
     },
     "metadata": {
      "needs_background": "light"
     },
     "output_type": "display_data"
    },
    {
     "name": "stdout",
     "output_type": "stream",
     "text": [
      "\n",
      "\n"
     ]
    }
   ],
   "source": [
    "# we will use countplot to plot the graph of categorical columns\n",
    "\n",
    "# using for loop to plot the graph\n",
    "for i in obj[1:]:\n",
    "    # we have used from 1 to all because index 0 contains Loan_ID which is unique for every data\n",
    "    plt.title(i)\n",
    "    sns.countplot(loan[i])\n",
    "    plt.show()\n",
    "    print('\\n')"
   ]
  },
  {
   "cell_type": "markdown",
   "id": "c3544392",
   "metadata": {},
   "source": [
    "Observations:\n",
    "    \n",
    "    1: More Males applied for loan as compare to Female.\n",
    "        \n",
    "    2: Married applicants are more than unmarried.\n",
    "        \n",
    "    3: Most applicants for loan are graduate.\n",
    "        \n",
    "    4: Self employed are less to apply for loan."
   ]
  },
  {
   "cell_type": "markdown",
   "id": "72b7c8e6",
   "metadata": {},
   "source": [
    "#### Bivariate analysis"
   ]
  },
  {
   "cell_type": "code",
   "execution_count": 15,
   "id": "bf870987",
   "metadata": {
    "scrolled": false
   },
   "outputs": [
    {
     "name": "stdout",
     "output_type": "stream",
     "text": [
      "Relation between loan staus and ApplicantIncome\n"
     ]
    },
    {
     "data": {
      "image/png": "[encoded data removed]",
      "text/plain": [
       "<Figure size 432x288 with 1 Axes>"
      ]
     },
     "metadata": {
      "needs_background": "light"
     },
     "output_type": "display_data"
    },
    {
     "name": "stdout",
     "output_type": "stream",
     "text": [
      "\n",
      "\n",
      "Relation between loan staus and CoapplicantIncome\n"
     ]
    },
    {
     "data": {
      "image/png": "[encoded data removed]",
      "text/plain": [
       "<Figure size 432x288 with 1 Axes>"
      ]
     },
     "metadata": {
      "needs_background": "light"
     },
     "output_type": "display_data"
    },
    {
     "name": "stdout",
     "output_type": "stream",
     "text": [
      "\n",
      "\n",
      "Relation between loan staus and LoanAmount\n"
     ]
    },
    {
     "data": {
      "image/png": "[encoded data removed]",
      "text/plain": [
       "<Figure size 432x288 with 1 Axes>"
      ]
     },
     "metadata": {
      "needs_background": "light"
     },
     "output_type": "display_data"
    },
    {
     "name": "stdout",
     "output_type": "stream",
     "text": [
      "\n",
      "\n",
      "Relation between loan staus and Loan_Amount_Term\n"
     ]
    },
    {
     "data": {
      "image/png": "[encoded data removed]",
      "text/plain": [
       "<Figure size 432x288 with 1 Axes>"
      ]
     },
     "metadata": {
      "needs_background": "light"
     },
     "output_type": "display_data"
    },
    {
     "name": "stdout",
     "output_type": "stream",
     "text": [
      "\n",
      "\n",
      "Relation between loan staus and Credit_History\n"
     ]
    },
    {
     "data": {
      "image/png": "[encoded data removed]",
      "text/plain": [
       "<Figure size 432x288 with 1 Axes>"
      ]
     },
     "metadata": {
      "needs_background": "light"
     },
     "output_type": "display_data"
    },
    {
     "name": "stdout",
     "output_type": "stream",
     "text": [
      "\n",
      "\n"
     ]
    }
   ],
   "source": [
    "# checking relation between input numeric data with target column\n",
    "# we will use for loop to plot graphs and use violinplot to find relationship\n",
    "for i in numeric:\n",
    "    print('Relation between loan staus and', i)\n",
    "    plt.xlabel('Loan Status')\n",
    "    plt.ylabel(i)\n",
    "    sns.violinplot(loan['Loan_Status'], loan[i])\n",
    "    plt.show()\n",
    "    print('\\n')"
   ]
  },
  {
   "cell_type": "markdown",
   "id": "a988a7f5",
   "metadata": {},
   "source": [
    "Observations:\n",
    "    \n",
    "    1: Most number of applicants income is nearby $1000 to $2000.\n",
    "        \n",
    "    2: Coapplicants income is also somewhere nearby like applicants income\n",
    "        \n",
    "    4: Most loans are applied for amount between $100 to $200.\n",
    "        \n",
    "    5: Most number of loan amount term is around 350.\n",
    "        \n",
    "    6: Most approved loan credit history is 1 but in case of not approved loan it is mix of 0 and 1."
   ]
  },
  {
   "cell_type": "markdown",
   "id": "51f7d371",
   "metadata": {},
   "source": [
    "#### Dropping Column"
   ]
  },
  {
   "cell_type": "code",
   "execution_count": 16,
   "id": "f283fbf3",
   "metadata": {},
   "outputs": [],
   "source": [
    "# first we will make a copy of the dataframe then perform tasks on that copy\n",
    "df = loan.copy()"
   ]
  },
  {
   "cell_type": "code",
   "execution_count": 17,
   "id": "f0effc08",
   "metadata": {},
   "outputs": [],
   "source": [
    "# dropping Loan_ID column\n",
    "df.drop('Loan_ID', inplace = True, axis = 1)"
   ]
  },
  {
   "cell_type": "markdown",
   "id": "a854dd60",
   "metadata": {},
   "source": [
    "#### Filling Nan Values"
   ]
  },
  {
   "cell_type": "code",
   "execution_count": 18,
   "id": "03569a35",
   "metadata": {},
   "outputs": [],
   "source": [
    "# we will fill null values of categorical features from their mode and numerical features from their mean values\n",
    "df['Gender'].fillna(df['Gender'].mode()[0], inplace = True)\n",
    "df['Married'].fillna(df['Married'].mode()[0], inplace = True)\n",
    "df['Dependents'].fillna(df['Dependents'].mode()[0], inplace = True)\n",
    "df['Self_Employed'].fillna(df['Self_Employed'].mode()[0], inplace = True)\n",
    "df['LoanAmount'].fillna(df['LoanAmount'].mean(), inplace = True)\n",
    "df['Loan_Amount_Term'].fillna(df['Loan_Amount_Term'].mean(), inplace = True)\n",
    "df['Credit_History'].fillna(df['Credit_History'].mode()[0], inplace = True)"
   ]
  },
  {
   "cell_type": "markdown",
   "id": "77b06378",
   "metadata": {},
   "source": [
    "#### Encoding"
   ]
  },
  {
   "cell_type": "code",
   "execution_count": 19,
   "id": "9626a948",
   "metadata": {},
   "outputs": [],
   "source": [
    "# We will use label encoder to encode the categorical features\n",
    "\n",
    "# importing library for encoding\n",
    "from sklearn.preprocessing import LabelEncoder\n",
    "\n",
    "# making instance of encoder\n",
    "le = LabelEncoder()"
   ]
  },
  {
   "cell_type": "code",
   "execution_count": 20,
   "id": "181f405b",
   "metadata": {},
   "outputs": [],
   "source": [
    "# we will use for loop to encode the dataset\n",
    "for i in obj[1:]:\n",
    "    df[i] = le.fit_transform(df[i])"
   ]
  },
  {
   "cell_type": "code",
   "execution_count": 21,
   "id": "4675b31d",
   "metadata": {},
   "outputs": [
    {
     "data": {
      "text/html": [
       "<div>\n",
       "<style scoped>\n",
       "    .dataframe tbody tr th:only-of-type {\n",
       "        vertical-align: middle;\n",
       "    }\n",
       "\n",
       "    .dataframe tbody tr th {\n",
       "        vertical-align: top;\n",
       "    }\n",
       "\n",
       "    .dataframe thead th {\n",
       "        text-align: right;\n",
       "    }\n",
       "</style>\n",
       "<table border=\"1\" class=\"dataframe\">\n",
       "  <thead>\n",
       "    <tr style=\"text-align: right;\">\n",
       "      <th></th>\n",
       "      <th>Gender</th>\n",
       "      <th>Married</th>\n",
       "      <th>Dependents</th>\n",
       "      <th>Education</th>\n",
       "      <th>Self_Employed</th>\n",
       "      <th>ApplicantIncome</th>\n",
       "      <th>CoapplicantIncome</th>\n",
       "      <th>LoanAmount</th>\n",
       "      <th>Loan_Amount_Term</th>\n",
       "      <th>Credit_History</th>\n",
       "      <th>Property_Area</th>\n",
       "      <th>Loan_Status</th>\n",
       "    </tr>\n",
       "  </thead>\n",
       "  <tbody>\n",
       "    <tr>\n",
       "      <th>0</th>\n",
       "      <td>1</td>\n",
       "      <td>0</td>\n",
       "      <td>0</td>\n",
       "      <td>0</td>\n",
       "      <td>0</td>\n",
       "      <td>5849</td>\n",
       "      <td>0.0</td>\n",
       "      <td>146.412162</td>\n",
       "      <td>360.0</td>\n",
       "      <td>1.0</td>\n",
       "      <td>2</td>\n",
       "      <td>1</td>\n",
       "    </tr>\n",
       "    <tr>\n",
       "      <th>1</th>\n",
       "      <td>1</td>\n",
       "      <td>1</td>\n",
       "      <td>1</td>\n",
       "      <td>0</td>\n",
       "      <td>0</td>\n",
       "      <td>4583</td>\n",
       "      <td>1508.0</td>\n",
       "      <td>128.000000</td>\n",
       "      <td>360.0</td>\n",
       "      <td>1.0</td>\n",
       "      <td>0</td>\n",
       "      <td>0</td>\n",
       "    </tr>\n",
       "    <tr>\n",
       "      <th>2</th>\n",
       "      <td>1</td>\n",
       "      <td>1</td>\n",
       "      <td>0</td>\n",
       "      <td>0</td>\n",
       "      <td>1</td>\n",
       "      <td>3000</td>\n",
       "      <td>0.0</td>\n",
       "      <td>66.000000</td>\n",
       "      <td>360.0</td>\n",
       "      <td>1.0</td>\n",
       "      <td>2</td>\n",
       "      <td>1</td>\n",
       "    </tr>\n",
       "    <tr>\n",
       "      <th>3</th>\n",
       "      <td>1</td>\n",
       "      <td>1</td>\n",
       "      <td>0</td>\n",
       "      <td>1</td>\n",
       "      <td>0</td>\n",
       "      <td>2583</td>\n",
       "      <td>2358.0</td>\n",
       "      <td>120.000000</td>\n",
       "      <td>360.0</td>\n",
       "      <td>1.0</td>\n",
       "      <td>2</td>\n",
       "      <td>1</td>\n",
       "    </tr>\n",
       "    <tr>\n",
       "      <th>4</th>\n",
       "      <td>1</td>\n",
       "      <td>0</td>\n",
       "      <td>0</td>\n",
       "      <td>0</td>\n",
       "      <td>0</td>\n",
       "      <td>6000</td>\n",
       "      <td>0.0</td>\n",
       "      <td>141.000000</td>\n",
       "      <td>360.0</td>\n",
       "      <td>1.0</td>\n",
       "      <td>2</td>\n",
       "      <td>1</td>\n",
       "    </tr>\n",
       "    <tr>\n",
       "      <th>5</th>\n",
       "      <td>1</td>\n",
       "      <td>1</td>\n",
       "      <td>2</td>\n",
       "      <td>0</td>\n",
       "      <td>1</td>\n",
       "      <td>5417</td>\n",
       "      <td>4196.0</td>\n",
       "      <td>267.000000</td>\n",
       "      <td>360.0</td>\n",
       "      <td>1.0</td>\n",
       "      <td>2</td>\n",
       "      <td>1</td>\n",
       "    </tr>\n",
       "    <tr>\n",
       "      <th>6</th>\n",
       "      <td>1</td>\n",
       "      <td>1</td>\n",
       "      <td>0</td>\n",
       "      <td>1</td>\n",
       "      <td>0</td>\n",
       "      <td>2333</td>\n",
       "      <td>1516.0</td>\n",
       "      <td>95.000000</td>\n",
       "      <td>360.0</td>\n",
       "      <td>1.0</td>\n",
       "      <td>2</td>\n",
       "      <td>1</td>\n",
       "    </tr>\n",
       "    <tr>\n",
       "      <th>7</th>\n",
       "      <td>1</td>\n",
       "      <td>1</td>\n",
       "      <td>3</td>\n",
       "      <td>0</td>\n",
       "      <td>0</td>\n",
       "      <td>3036</td>\n",
       "      <td>2504.0</td>\n",
       "      <td>158.000000</td>\n",
       "      <td>360.0</td>\n",
       "      <td>0.0</td>\n",
       "      <td>1</td>\n",
       "      <td>0</td>\n",
       "    </tr>\n",
       "    <tr>\n",
       "      <th>8</th>\n",
       "      <td>1</td>\n",
       "      <td>1</td>\n",
       "      <td>2</td>\n",
       "      <td>0</td>\n",
       "      <td>0</td>\n",
       "      <td>4006</td>\n",
       "      <td>1526.0</td>\n",
       "      <td>168.000000</td>\n",
       "      <td>360.0</td>\n",
       "      <td>1.0</td>\n",
       "      <td>2</td>\n",
       "      <td>1</td>\n",
       "    </tr>\n",
       "    <tr>\n",
       "      <th>9</th>\n",
       "      <td>1</td>\n",
       "      <td>1</td>\n",
       "      <td>1</td>\n",
       "      <td>0</td>\n",
       "      <td>0</td>\n",
       "      <td>12841</td>\n",
       "      <td>10968.0</td>\n",
       "      <td>349.000000</td>\n",
       "      <td>360.0</td>\n",
       "      <td>1.0</td>\n",
       "      <td>1</td>\n",
       "      <td>0</td>\n",
       "    </tr>\n",
       "  </tbody>\n",
       "</table>\n",
       "</div>"
      ],
      "text/plain": [
       "   Gender  Married  Dependents  Education  Self_Employed  ApplicantIncome  \\\n",
       "0       1        0           0          0              0             5849   \n",
       "1       1        1           1          0              0             4583   \n",
       "2       1        1           0          0              1             3000   \n",
       "3       1        1           0          1              0             2583   \n",
       "4       1        0           0          0              0             6000   \n",
       "5       1        1           2          0              1             5417   \n",
       "6       1        1           0          1              0             2333   \n",
       "7       1        1           3          0              0             3036   \n",
       "8       1        1           2          0              0             4006   \n",
       "9       1        1           1          0              0            12841   \n",
       "\n",
       "   CoapplicantIncome  LoanAmount  Loan_Amount_Term  Credit_History  \\\n",
       "0                0.0  146.412162             360.0             1.0   \n",
       "1             1508.0  128.000000             360.0             1.0   \n",
       "2                0.0   66.000000             360.0             1.0   \n",
       "3             2358.0  120.000000             360.0             1.0   \n",
       "4                0.0  141.000000             360.0             1.0   \n",
       "5             4196.0  267.000000             360.0             1.0   \n",
       "6             1516.0   95.000000             360.0             1.0   \n",
       "7             2504.0  158.000000             360.0             0.0   \n",
       "8             1526.0  168.000000             360.0             1.0   \n",
       "9            10968.0  349.000000             360.0             1.0   \n",
       "\n",
       "   Property_Area  Loan_Status  \n",
       "0              2            1  \n",
       "1              0            0  \n",
       "2              2            1  \n",
       "3              2            1  \n",
       "4              2            1  \n",
       "5              2            1  \n",
       "6              2            1  \n",
       "7              1            0  \n",
       "8              2            1  \n",
       "9              1            0  "
      ]
     },
     "execution_count": 21,
     "metadata": {},
     "output_type": "execute_result"
    }
   ],
   "source": [
    "# loading top 10 rows of dataset\n",
    "df.head(10)"
   ]
  },
  {
   "cell_type": "markdown",
   "id": "035918fc",
   "metadata": {},
   "source": [
    "**Here we can see the data is encoded.**"
   ]
  },
  {
   "cell_type": "markdown",
   "id": "c9939019",
   "metadata": {},
   "source": [
    "#### Correlation"
   ]
  },
  {
   "cell_type": "code",
   "execution_count": 22,
   "id": "6366103d",
   "metadata": {},
   "outputs": [
    {
     "data": {
      "image/png": "[encoded data removed]",
      "text/plain": [
       "<Figure size 720x576 with 2 Axes>"
      ]
     },
     "metadata": {
      "needs_background": "light"
     },
     "output_type": "display_data"
    }
   ],
   "source": [
    "# Checking correlation between input and target variables\n",
    "# we will use heatmap to plot check it\n",
    "corr = df.corr()\n",
    "plt.figure(figsize = (10, 8))\n",
    "sns.heatmap(corr, annot = True, fmt = '.2f', cmap = 'YlOrRd')\n",
    "plt.show()"
   ]
  },
  {
   "cell_type": "markdown",
   "id": "cbcf1af7",
   "metadata": {},
   "source": [
    "**Most columns showing positive correlation with target column.**"
   ]
  },
  {
   "cell_type": "markdown",
   "id": "f4870134",
   "metadata": {},
   "source": [
    "#### Outliers"
   ]
  },
  {
   "cell_type": "code",
   "execution_count": 23,
   "id": "30ec3db9",
   "metadata": {},
   "outputs": [],
   "source": [
    "# let's check for outliers in the dataset\n",
    "\n",
    "# importing required libraries\n",
    "from scipy.stats import zscore"
   ]
  },
  {
   "cell_type": "code",
   "execution_count": 24,
   "id": "5a7ac058",
   "metadata": {},
   "outputs": [],
   "source": [
    "# checking zscore values of data and holding it into a variable z\n",
    "z = np.abs(zscore(df))"
   ]
  },
  {
   "cell_type": "code",
   "execution_count": 25,
   "id": "adc185bd",
   "metadata": {},
   "outputs": [],
   "source": [
    "# checking data whose threshold value greater than 3 and holding them into a pandas dataframe\n",
    "threshold = 3\n",
    "outlier = pd.DataFrame(np.where(z>threshold))"
   ]
  },
  {
   "cell_type": "code",
   "execution_count": 26,
   "id": "17c9eb3d",
   "metadata": {},
   "outputs": [
    {
     "data": {
      "text/plain": [
       "41"
      ]
     },
     "execution_count": 26,
     "metadata": {},
     "output_type": "execute_result"
    }
   ],
   "source": [
    "# checking shape of data whose threshold value is greater than 3\n",
    "outlier.shape[1]"
   ]
  },
  {
   "cell_type": "markdown",
   "id": "155e3697",
   "metadata": {},
   "source": [
    "*There are 41 rows which contains data that belongs outside the 3 standard deviation.*"
   ]
  },
  {
   "cell_type": "code",
   "execution_count": 27,
   "id": "cd86abcf",
   "metadata": {},
   "outputs": [
    {
     "data": {
      "text/plain": [
       "6.677524429967427"
      ]
     },
     "execution_count": 27,
     "metadata": {},
     "output_type": "execute_result"
    }
   ],
   "source": [
    "# let's check the data loss if we remove them\n",
    "data_loss = ((614-573)/614)*100\n",
    "data_loss"
   ]
  },
  {
   "cell_type": "markdown",
   "id": "fd27a11c",
   "metadata": {},
   "source": [
    "*It is around 6 percent which can be accepted so we can remove those outliers*"
   ]
  },
  {
   "cell_type": "code",
   "execution_count": 28,
   "id": "3d5224ee",
   "metadata": {},
   "outputs": [],
   "source": [
    "# Removing the outliers and holding the data in a variable whose threshold value is less than 3\n",
    "new_df = df[(z<3).all(axis = 1)]"
   ]
  },
  {
   "cell_type": "markdown",
   "id": "3d9829c3",
   "metadata": {},
   "source": [
    "*Outliers are now removed from the dataset.*"
   ]
  },
  {
   "cell_type": "markdown",
   "id": "7064159c",
   "metadata": {},
   "source": [
    "#### Over Sampling"
   ]
  },
  {
   "cell_type": "markdown",
   "id": "a19b751b",
   "metadata": {},
   "source": [
    "As we have seen there is data imbalance in target column so we need to handle that.\n",
    "\n",
    "We will use over sampling technique to handle that."
   ]
  },
  {
   "cell_type": "code",
   "execution_count": 29,
   "id": "98a8b541",
   "metadata": {},
   "outputs": [
    {
     "data": {
      "text/html": [
       "<div>\n",
       "<style scoped>\n",
       "    .dataframe tbody tr th:only-of-type {\n",
       "        vertical-align: middle;\n",
       "    }\n",
       "\n",
       "    .dataframe tbody tr th {\n",
       "        vertical-align: top;\n",
       "    }\n",
       "\n",
       "    .dataframe thead th {\n",
       "        text-align: right;\n",
       "    }\n",
       "</style>\n",
       "<table border=\"1\" class=\"dataframe\">\n",
       "  <thead>\n",
       "    <tr style=\"text-align: right;\">\n",
       "      <th></th>\n",
       "      <th>Gender</th>\n",
       "      <th>Married</th>\n",
       "      <th>Dependents</th>\n",
       "      <th>Education</th>\n",
       "      <th>Self_Employed</th>\n",
       "      <th>ApplicantIncome</th>\n",
       "      <th>CoapplicantIncome</th>\n",
       "      <th>LoanAmount</th>\n",
       "      <th>Loan_Amount_Term</th>\n",
       "      <th>Credit_History</th>\n",
       "      <th>Property_Area</th>\n",
       "      <th>Loan_Status</th>\n",
       "    </tr>\n",
       "  </thead>\n",
       "  <tbody>\n",
       "    <tr>\n",
       "      <th>0</th>\n",
       "      <td>1</td>\n",
       "      <td>0</td>\n",
       "      <td>0</td>\n",
       "      <td>0</td>\n",
       "      <td>0</td>\n",
       "      <td>5849</td>\n",
       "      <td>0.0</td>\n",
       "      <td>146.412162</td>\n",
       "      <td>360.0</td>\n",
       "      <td>1.0</td>\n",
       "      <td>2</td>\n",
       "      <td>1</td>\n",
       "    </tr>\n",
       "    <tr>\n",
       "      <th>1</th>\n",
       "      <td>1</td>\n",
       "      <td>1</td>\n",
       "      <td>1</td>\n",
       "      <td>0</td>\n",
       "      <td>0</td>\n",
       "      <td>4583</td>\n",
       "      <td>1508.0</td>\n",
       "      <td>128.000000</td>\n",
       "      <td>360.0</td>\n",
       "      <td>1.0</td>\n",
       "      <td>0</td>\n",
       "      <td>0</td>\n",
       "    </tr>\n",
       "    <tr>\n",
       "      <th>2</th>\n",
       "      <td>1</td>\n",
       "      <td>1</td>\n",
       "      <td>0</td>\n",
       "      <td>0</td>\n",
       "      <td>1</td>\n",
       "      <td>3000</td>\n",
       "      <td>0.0</td>\n",
       "      <td>66.000000</td>\n",
       "      <td>360.0</td>\n",
       "      <td>1.0</td>\n",
       "      <td>2</td>\n",
       "      <td>1</td>\n",
       "    </tr>\n",
       "    <tr>\n",
       "      <th>3</th>\n",
       "      <td>1</td>\n",
       "      <td>1</td>\n",
       "      <td>0</td>\n",
       "      <td>1</td>\n",
       "      <td>0</td>\n",
       "      <td>2583</td>\n",
       "      <td>2358.0</td>\n",
       "      <td>120.000000</td>\n",
       "      <td>360.0</td>\n",
       "      <td>1.0</td>\n",
       "      <td>2</td>\n",
       "      <td>1</td>\n",
       "    </tr>\n",
       "    <tr>\n",
       "      <th>4</th>\n",
       "      <td>1</td>\n",
       "      <td>0</td>\n",
       "      <td>0</td>\n",
       "      <td>0</td>\n",
       "      <td>0</td>\n",
       "      <td>6000</td>\n",
       "      <td>0.0</td>\n",
       "      <td>141.000000</td>\n",
       "      <td>360.0</td>\n",
       "      <td>1.0</td>\n",
       "      <td>2</td>\n",
       "      <td>1</td>\n",
       "    </tr>\n",
       "  </tbody>\n",
       "</table>\n",
       "</div>"
      ],
      "text/plain": [
       "   Gender  Married  Dependents  Education  Self_Employed  ApplicantIncome  \\\n",
       "0       1        0           0          0              0             5849   \n",
       "1       1        1           1          0              0             4583   \n",
       "2       1        1           0          0              1             3000   \n",
       "3       1        1           0          1              0             2583   \n",
       "4       1        0           0          0              0             6000   \n",
       "\n",
       "   CoapplicantIncome  LoanAmount  Loan_Amount_Term  Credit_History  \\\n",
       "0                0.0  146.412162             360.0             1.0   \n",
       "1             1508.0  128.000000             360.0             1.0   \n",
       "2                0.0   66.000000             360.0             1.0   \n",
       "3             2358.0  120.000000             360.0             1.0   \n",
       "4                0.0  141.000000             360.0             1.0   \n",
       "\n",
       "   Property_Area  Loan_Status  \n",
       "0              2            1  \n",
       "1              0            0  \n",
       "2              2            1  \n",
       "3              2            1  \n",
       "4              2            1  "
      ]
     },
     "execution_count": 29,
     "metadata": {},
     "output_type": "execute_result"
    }
   ],
   "source": [
    "new_df.head()"
   ]
  },
  {
   "cell_type": "code",
   "execution_count": 30,
   "id": "b03cec85",
   "metadata": {},
   "outputs": [],
   "source": [
    "# first we will split input data and target data \n",
    "x = new_df.iloc[ : , :-1]\n",
    "# holding only input data\n",
    "\n",
    "y = new_df.iloc[ : , -1]\n",
    "# holding only target data"
   ]
  },
  {
   "cell_type": "code",
   "execution_count": 31,
   "id": "c24d59cc",
   "metadata": {},
   "outputs": [],
   "source": [
    "# importing required library\n",
    "from imblearn.over_sampling import SMOTE\n",
    "\n",
    "# making instance of it\n",
    "smt = SMOTE()"
   ]
  },
  {
   "cell_type": "code",
   "execution_count": 32,
   "id": "54c89b39",
   "metadata": {},
   "outputs": [
    {
     "name": "stdout",
     "output_type": "stream",
     "text": [
      "Input data shape (577, 11)\n",
      "Target data shape (577,)\n"
     ]
    }
   ],
   "source": [
    "# checking shape of input and target data\n",
    "print('Input data shape', x.shape)\n",
    "print('Target data shape', y.shape)"
   ]
  },
  {
   "cell_type": "code",
   "execution_count": 33,
   "id": "85b7ac7c",
   "metadata": {},
   "outputs": [],
   "source": [
    "# now passing input and target data to balance the dataset\n",
    "x1, y1 = smt.fit_resample(x,y)"
   ]
  },
  {
   "cell_type": "code",
   "execution_count": 34,
   "id": "207c87d8",
   "metadata": {},
   "outputs": [
    {
     "name": "stdout",
     "output_type": "stream",
     "text": [
      "Input data shape (796, 11)\n",
      "Target data shape (796,)\n"
     ]
    }
   ],
   "source": [
    "# checking shape of input and target data after doing oversampling\n",
    "print('Input data shape', x1.shape)\n",
    "print('Target data shape', y1.shape)"
   ]
  },
  {
   "cell_type": "code",
   "execution_count": 35,
   "id": "dd7b573b",
   "metadata": {},
   "outputs": [
    {
     "data": {
      "text/plain": [
       "1    398\n",
       "0    398\n",
       "Name: Loan_Status, dtype: int64"
      ]
     },
     "execution_count": 35,
     "metadata": {},
     "output_type": "execute_result"
    }
   ],
   "source": [
    "# checking the values of all different categorical features of target data\n",
    "y1.value_counts()"
   ]
  },
  {
   "cell_type": "markdown",
   "id": "e9cdd56a",
   "metadata": {},
   "source": [
    "*As both categories are now same so now our dataset is balanced*"
   ]
  },
  {
   "cell_type": "markdown",
   "id": "61ec15a3",
   "metadata": {},
   "source": [
    "#### Skewness"
   ]
  },
  {
   "cell_type": "markdown",
   "id": "7c9b07f6",
   "metadata": {},
   "source": [
    "As we have seen there is skewness present in our data so we will handle that."
   ]
  },
  {
   "cell_type": "code",
   "execution_count": 36,
   "id": "d5a83de7",
   "metadata": {},
   "outputs": [
    {
     "data": {
      "text/plain": [
       "Self_Employed        2.709506\n",
       "ApplicantIncome      2.194473\n",
       "Education            1.575506\n",
       "CoapplicantIncome    1.349184\n",
       "Dependents           1.222818\n",
       "LoanAmount           1.130221\n",
       "Property_Area        0.134850\n",
       "Married             -0.321231\n",
       "Credit_History      -1.238250\n",
       "Gender              -1.382297\n",
       "Loan_Amount_Term    -1.999061\n",
       "dtype: float64"
      ]
     },
     "execution_count": 36,
     "metadata": {},
     "output_type": "execute_result"
    }
   ],
   "source": [
    "# checking skewness of input data and sorting it into descending order\n",
    "x1.skew().sort_values(ascending = False)"
   ]
  },
  {
   "cell_type": "code",
   "execution_count": 37,
   "id": "2ec1e8d2",
   "metadata": {},
   "outputs": [],
   "source": [
    "# importing library to handle the distribution of data\n",
    "from sklearn.preprocessing import PowerTransformer"
   ]
  },
  {
   "cell_type": "code",
   "execution_count": 38,
   "id": "3f9d1b3b",
   "metadata": {},
   "outputs": [],
   "source": [
    "# making an instance of it\n",
    "pt = PowerTransformer()"
   ]
  },
  {
   "cell_type": "code",
   "execution_count": 39,
   "id": "f734ae51",
   "metadata": {},
   "outputs": [],
   "source": [
    "# passing input data to transform\n",
    "new_x = pt.fit_transform(x1)\n",
    "# this will provide output in numpy array format\n",
    "\n",
    "# holding the output in pandas dataframe\n",
    "inp_x = pd.DataFrame(new_x, columns = x1.columns)"
   ]
  },
  {
   "cell_type": "code",
   "execution_count": 40,
   "id": "7c9350b5",
   "metadata": {},
   "outputs": [
    {
     "data": {
      "text/plain": [
       "Gender              -1.382297\n",
       "Married             -0.321231\n",
       "Dependents           0.592928\n",
       "Education            1.575506\n",
       "Self_Employed        2.709506\n",
       "ApplicantIncome      0.007326\n",
       "CoapplicantIncome   -0.135395\n",
       "LoanAmount           0.042968\n",
       "Loan_Amount_Term     0.664273\n",
       "Credit_History      -1.084837\n",
       "Property_Area       -0.088118\n",
       "dtype: float64"
      ]
     },
     "execution_count": 40,
     "metadata": {},
     "output_type": "execute_result"
    }
   ],
   "source": [
    "# checking skewness of data\n",
    "inp_x.skew()"
   ]
  },
  {
   "cell_type": "markdown",
   "id": "8a23da94",
   "metadata": {},
   "source": [
    "*Here we can see the skewness is handled now properly.*"
   ]
  },
  {
   "cell_type": "markdown",
   "id": "5181506b",
   "metadata": {},
   "source": [
    "#### Scaling the data"
   ]
  },
  {
   "cell_type": "code",
   "execution_count": 41,
   "id": "90b1f974",
   "metadata": {},
   "outputs": [],
   "source": [
    "# importing require library\n",
    "from sklearn.preprocessing import StandardScaler\n",
    "\n",
    "# holding it into an instance\n",
    "ssc = StandardScaler()"
   ]
  },
  {
   "cell_type": "code",
   "execution_count": 42,
   "id": "eb748083",
   "metadata": {},
   "outputs": [],
   "source": [
    "# applying scaling to input data\n",
    "scaled = ssc.fit_transform(inp_x)\n",
    "\n",
    "# this will give output in numpy array format \n",
    "\n",
    "# making pandas dataframe of output\n",
    "input_x = pd.DataFrame(scaled, columns = inp_x.columns)"
   ]
  },
  {
   "cell_type": "markdown",
   "id": "d382f5c9",
   "metadata": {},
   "source": [
    "**Now our data is ready to go for model training.**"
   ]
  },
  {
   "cell_type": "markdown",
   "id": "8f165d68",
   "metadata": {},
   "source": [
    "### Model building"
   ]
  },
  {
   "cell_type": "code",
   "execution_count": 97,
   "id": "7aeb6c76",
   "metadata": {},
   "outputs": [],
   "source": [
    "# importing classification algorithms and validation matrics\n",
    "\n",
    "from sklearn.model_selection import train_test_split\n",
    "\n",
    "from sklearn.linear_model import LogisticRegression\n",
    "from sklearn.svm import SVC\n",
    "from sklearn.tree import DecisionTreeClassifier\n",
    "from sklearn.neighbors import KNeighborsClassifier\n",
    "from sklearn.ensemble import RandomForestClassifier\n",
    "from sklearn.naive_bayes import GaussianNB\n",
    "\n",
    "from sklearn.metrics import accuracy_score, confusion_matrix, classification_report"
   ]
  },
  {
   "cell_type": "code",
   "execution_count": 44,
   "id": "76e42e21",
   "metadata": {},
   "outputs": [],
   "source": [
    "# making instance of every model\n",
    "lr = LogisticRegression()\n",
    "sv = SVC()\n",
    "dt = DecisionTreeClassifier()\n",
    "kn = KNeighborsClassifier()\n",
    "rf = RandomForestClassifier()\n",
    "gn = GaussianNB()"
   ]
  },
  {
   "cell_type": "markdown",
   "id": "df3ea373",
   "metadata": {},
   "source": [
    "#### Random State"
   ]
  },
  {
   "cell_type": "markdown",
   "id": "0c1e9bd9",
   "metadata": {},
   "source": [
    "Now we will find the best random state to split our data and we will use LogisticRegression model for this."
   ]
  },
  {
   "cell_type": "code",
   "execution_count": 45,
   "id": "aad31eec",
   "metadata": {
    "scrolled": false
   },
   "outputs": [
    {
     "name": "stdout",
     "output_type": "stream",
     "text": [
      "At random state 1 accuracy score is 0.7487437185929648\n",
      "Maximum accuracy is 0.7487437185929648 and best random state is 1\n",
      "At random state 2 accuracy score is 0.7286432160804021\n",
      "At random state 3 accuracy score is 0.7587939698492462\n",
      "Maximum accuracy is 0.7587939698492462 and best random state is 3\n",
      "At random state 4 accuracy score is 0.7788944723618091\n",
      "Maximum accuracy is 0.7788944723618091 and best random state is 4\n",
      "At random state 5 accuracy score is 0.7989949748743719\n",
      "Maximum accuracy is 0.7989949748743719 and best random state is 5\n",
      "At random state 6 accuracy score is 0.7839195979899497\n",
      "At random state 7 accuracy score is 0.7788944723618091\n",
      "At random state 8 accuracy score is 0.7688442211055276\n",
      "At random state 9 accuracy score is 0.7688442211055276\n",
      "At random state 10 accuracy score is 0.7889447236180904\n",
      "At random state 11 accuracy score is 0.7336683417085427\n",
      "At random state 12 accuracy score is 0.8140703517587939\n",
      "Maximum accuracy is 0.8140703517587939 and best random state is 12\n",
      "At random state 13 accuracy score is 0.7939698492462312\n",
      "At random state 14 accuracy score is 0.7688442211055276\n",
      "At random state 15 accuracy score is 0.7437185929648241\n",
      "At random state 16 accuracy score is 0.7939698492462312\n",
      "At random state 17 accuracy score is 0.7688442211055276\n",
      "At random state 18 accuracy score is 0.7688442211055276\n",
      "At random state 19 accuracy score is 0.7386934673366834\n",
      "At random state 20 accuracy score is 0.7185929648241206\n",
      "At random state 21 accuracy score is 0.7839195979899497\n",
      "At random state 22 accuracy score is 0.7688442211055276\n",
      "At random state 23 accuracy score is 0.7286432160804021\n",
      "At random state 24 accuracy score is 0.7839195979899497\n",
      "At random state 25 accuracy score is 0.7537688442211056\n",
      "At random state 26 accuracy score is 0.7738693467336684\n",
      "At random state 27 accuracy score is 0.7738693467336684\n",
      "At random state 28 accuracy score is 0.7889447236180904\n",
      "At random state 29 accuracy score is 0.7587939698492462\n",
      "At random state 30 accuracy score is 0.7386934673366834\n",
      "At random state 31 accuracy score is 0.7939698492462312\n",
      "At random state 32 accuracy score is 0.7185929648241206\n",
      "At random state 33 accuracy score is 0.7386934673366834\n",
      "At random state 34 accuracy score is 0.7738693467336684\n",
      "At random state 35 accuracy score is 0.7386934673366834\n",
      "At random state 36 accuracy score is 0.8291457286432161\n",
      "Maximum accuracy is 0.8291457286432161 and best random state is 36\n",
      "At random state 37 accuracy score is 0.7487437185929648\n",
      "At random state 38 accuracy score is 0.7788944723618091\n",
      "At random state 39 accuracy score is 0.7286432160804021\n",
      "At random state 40 accuracy score is 0.7939698492462312\n",
      "At random state 41 accuracy score is 0.7437185929648241\n",
      "At random state 42 accuracy score is 0.7839195979899497\n",
      "At random state 43 accuracy score is 0.7638190954773869\n",
      "At random state 44 accuracy score is 0.7738693467336684\n",
      "At random state 45 accuracy score is 0.7738693467336684\n",
      "At random state 46 accuracy score is 0.8140703517587939\n",
      "At random state 47 accuracy score is 0.7336683417085427\n",
      "At random state 48 accuracy score is 0.8040201005025126\n",
      "At random state 49 accuracy score is 0.8040201005025126\n",
      "At random state 50 accuracy score is 0.7688442211055276\n",
      "At random state 51 accuracy score is 0.7437185929648241\n",
      "At random state 52 accuracy score is 0.7889447236180904\n",
      "At random state 53 accuracy score is 0.7839195979899497\n",
      "At random state 54 accuracy score is 0.7688442211055276\n",
      "At random state 55 accuracy score is 0.7537688442211056\n",
      "At random state 56 accuracy score is 0.7386934673366834\n",
      "At random state 57 accuracy score is 0.8140703517587939\n",
      "At random state 58 accuracy score is 0.7638190954773869\n",
      "At random state 59 accuracy score is 0.7386934673366834\n",
      "At random state 60 accuracy score is 0.7487437185929648\n",
      "At random state 61 accuracy score is 0.7738693467336684\n",
      "At random state 62 accuracy score is 0.7688442211055276\n",
      "At random state 63 accuracy score is 0.7939698492462312\n",
      "At random state 64 accuracy score is 0.7236180904522613\n",
      "At random state 65 accuracy score is 0.7236180904522613\n",
      "At random state 66 accuracy score is 0.7437185929648241\n",
      "At random state 67 accuracy score is 0.7788944723618091\n",
      "At random state 68 accuracy score is 0.8442211055276382\n",
      "Maximum accuracy is 0.8442211055276382 and best random state is 68\n",
      "At random state 69 accuracy score is 0.7939698492462312\n",
      "At random state 70 accuracy score is 0.7889447236180904\n",
      "At random state 71 accuracy score is 0.7638190954773869\n",
      "At random state 72 accuracy score is 0.7839195979899497\n",
      "At random state 73 accuracy score is 0.7638190954773869\n",
      "At random state 74 accuracy score is 0.7638190954773869\n",
      "At random state 75 accuracy score is 0.7839195979899497\n",
      "At random state 76 accuracy score is 0.7286432160804021\n",
      "At random state 77 accuracy score is 0.8040201005025126\n",
      "At random state 78 accuracy score is 0.8140703517587939\n",
      "At random state 79 accuracy score is 0.8241206030150754\n",
      "At random state 80 accuracy score is 0.7889447236180904\n",
      "At random state 81 accuracy score is 0.7889447236180904\n",
      "At random state 82 accuracy score is 0.7587939698492462\n",
      "At random state 83 accuracy score is 0.7989949748743719\n",
      "At random state 84 accuracy score is 0.7236180904522613\n",
      "At random state 85 accuracy score is 0.7386934673366834\n",
      "At random state 86 accuracy score is 0.8291457286432161\n",
      "At random state 87 accuracy score is 0.7638190954773869\n",
      "At random state 88 accuracy score is 0.7638190954773869\n",
      "At random state 89 accuracy score is 0.7638190954773869\n",
      "At random state 90 accuracy score is 0.7487437185929648\n",
      "At random state 91 accuracy score is 0.7839195979899497\n",
      "At random state 92 accuracy score is 0.7437185929648241\n",
      "At random state 93 accuracy score is 0.7788944723618091\n",
      "At random state 94 accuracy score is 0.7788944723618091\n",
      "At random state 95 accuracy score is 0.8140703517587939\n",
      "At random state 96 accuracy score is 0.7989949748743719\n",
      "At random state 97 accuracy score is 0.7788944723618091\n",
      "At random state 98 accuracy score is 0.7638190954773869\n",
      "At random state 99 accuracy score is 0.7286432160804021\n",
      "At random state 100 accuracy score is 0.7788944723618091\n"
     ]
    }
   ],
   "source": [
    "# first we will find the best random state to split our data\n",
    "\n",
    "max_acc = 0\n",
    "# making a variable max_acc and initialising it with 0 we will store the maximum accuracy in it\n",
    "rs = 0\n",
    "# making a variable rs and initialising it with 0 we will store the random state in it for which maximum accuracy is \n",
    "# achieved\n",
    "\n",
    "# using a for loop to split data into 100 different random states\n",
    "for i in range(1,101):\n",
    "    X_train, X_test, Y_train, Y_test = train_test_split(input_x, y1, test_size = 0.25, random_state = i )\n",
    "    # taking 25% data for testing\n",
    "    \n",
    "    # using DecisionTreeClassifier\n",
    "    lr.fit(X_train, Y_train)\n",
    "    \n",
    "    # making prediction on test data\n",
    "    pred = lr.predict(X_test)\n",
    "    \n",
    "    # checking accuracy\n",
    "    accuracy = accuracy_score(pred, Y_test)\n",
    "    \n",
    "    print('At random state', i, 'accuracy score is', accuracy)\n",
    "    \n",
    "    \n",
    "    # using if condition to store the best accuracy and random state\n",
    "    if accuracy>max_acc:\n",
    "        max_acc = accuracy\n",
    "        best_rs = i\n",
    "        print('Maximum accuracy is', max_acc,'and best random state is', best_rs)"
   ]
  },
  {
   "cell_type": "markdown",
   "id": "7b23296e",
   "metadata": {},
   "source": [
    "**From here we can observe the maximum accuracy is 84 at random state 68**"
   ]
  },
  {
   "cell_type": "markdown",
   "id": "0431c6a4",
   "metadata": {},
   "source": [
    "#### Data Splitting"
   ]
  },
  {
   "cell_type": "markdown",
   "id": "87b44b53",
   "metadata": {},
   "source": [
    "We will split our data at random state 68."
   ]
  },
  {
   "cell_type": "code",
   "execution_count": 46,
   "id": "b10544c9",
   "metadata": {},
   "outputs": [],
   "source": [
    "X_train, X_test, Y_train, Y_test = train_test_split(input_x, y1, test_size = 0.20, random_state = 68)\n",
    "# taking 20% data for testing"
   ]
  },
  {
   "cell_type": "code",
   "execution_count": 47,
   "id": "d27f34b8",
   "metadata": {},
   "outputs": [
    {
     "name": "stdout",
     "output_type": "stream",
     "text": [
      "Input training data shape: (636, 11)\n",
      "Target training data shape: (636,)\n",
      "Input test data shape: (160, 11)\n",
      "Target test data shape: (160,)\n"
     ]
    }
   ],
   "source": [
    "# checking testing and training data shape\n",
    "print('Input training data shape:', X_train.shape)\n",
    "print('Target training data shape:', Y_train.shape)\n",
    "print('Input test data shape:', X_test.shape)\n",
    "print('Target test data shape:', Y_test.shape)"
   ]
  },
  {
   "cell_type": "markdown",
   "id": "563c761b",
   "metadata": {},
   "source": [
    "#### Selecting a model"
   ]
  },
  {
   "cell_type": "code",
   "execution_count": 49,
   "id": "ad1c1907",
   "metadata": {
    "scrolled": false
   },
   "outputs": [
    {
     "name": "stdout",
     "output_type": "stream",
     "text": [
      "Evaluation of model LogisticRegression() :\n",
      "Accuracy score: 0.8625\n",
      "Confusion matrix:\n",
      " [[48  5]\n",
      " [17 90]]\n",
      "Classification report\n",
      "               precision    recall  f1-score   support\n",
      "\n",
      "           0       0.74      0.91      0.81        53\n",
      "           1       0.95      0.84      0.89       107\n",
      "\n",
      "    accuracy                           0.86       160\n",
      "   macro avg       0.84      0.87      0.85       160\n",
      "weighted avg       0.88      0.86      0.87       160\n",
      "\n",
      "\n",
      "\n",
      "\n",
      "Evaluation of model SVC() :\n",
      "Accuracy score: 0.825\n",
      "Confusion matrix:\n",
      " [[47 10]\n",
      " [18 85]]\n",
      "Classification report\n",
      "               precision    recall  f1-score   support\n",
      "\n",
      "           0       0.72      0.82      0.77        57\n",
      "           1       0.89      0.83      0.86       103\n",
      "\n",
      "    accuracy                           0.82       160\n",
      "   macro avg       0.81      0.82      0.81       160\n",
      "weighted avg       0.83      0.82      0.83       160\n",
      "\n",
      "\n",
      "\n",
      "\n",
      "Evaluation of model DecisionTreeClassifier() :\n",
      "Accuracy score: 0.76875\n",
      "Confusion matrix:\n",
      " [[51 23]\n",
      " [14 72]]\n",
      "Classification report\n",
      "               precision    recall  f1-score   support\n",
      "\n",
      "           0       0.78      0.69      0.73        74\n",
      "           1       0.76      0.84      0.80        86\n",
      "\n",
      "    accuracy                           0.77       160\n",
      "   macro avg       0.77      0.76      0.76       160\n",
      "weighted avg       0.77      0.77      0.77       160\n",
      "\n",
      "\n",
      "\n",
      "\n",
      "Evaluation of model KNeighborsClassifier() :\n",
      "Accuracy score: 0.8125\n",
      "Confusion matrix:\n",
      " [[52 17]\n",
      " [13 78]]\n",
      "Classification report\n",
      "               precision    recall  f1-score   support\n",
      "\n",
      "           0       0.80      0.75      0.78        69\n",
      "           1       0.82      0.86      0.84        91\n",
      "\n",
      "    accuracy                           0.81       160\n",
      "   macro avg       0.81      0.81      0.81       160\n",
      "weighted avg       0.81      0.81      0.81       160\n",
      "\n",
      "\n",
      "\n",
      "\n",
      "Evaluation of model RandomForestClassifier() :\n",
      "Accuracy score: 0.90625\n",
      "Confusion matrix:\n",
      " [[55  5]\n",
      " [10 90]]\n",
      "Classification report\n",
      "               precision    recall  f1-score   support\n",
      "\n",
      "           0       0.85      0.92      0.88        60\n",
      "           1       0.95      0.90      0.92       100\n",
      "\n",
      "    accuracy                           0.91       160\n",
      "   macro avg       0.90      0.91      0.90       160\n",
      "weighted avg       0.91      0.91      0.91       160\n",
      "\n",
      "\n",
      "\n",
      "\n",
      "Evaluation of model GaussianNB() :\n",
      "Accuracy score: 0.81875\n",
      "Confusion matrix:\n",
      " [[42  6]\n",
      " [23 89]]\n",
      "Classification report\n",
      "               precision    recall  f1-score   support\n",
      "\n",
      "           0       0.65      0.88      0.74        48\n",
      "           1       0.94      0.79      0.86       112\n",
      "\n",
      "    accuracy                           0.82       160\n",
      "   macro avg       0.79      0.83      0.80       160\n",
      "weighted avg       0.85      0.82      0.82       160\n",
      "\n",
      "\n",
      "\n",
      "\n"
     ]
    }
   ],
   "source": [
    "# Now we will train different classification models and check the accuracy score of all models then select the best model\n",
    "\n",
    "# making a list of all models\n",
    "model = [lr, sv, dt, kn, rf, gn]\n",
    "\n",
    "# using for loop to train all models\n",
    "\n",
    "for model in model:\n",
    "    model.fit(X_train, Y_train)\n",
    "    \n",
    "    # making predictions\n",
    "    pred = model.predict(X_test)\n",
    "    \n",
    "    # checking accuracy score\n",
    "    accuracy = accuracy_score(pred, Y_test)\n",
    "    \n",
    "    # confusion matrix\n",
    "    cnf_matrix = confusion_matrix(pred, Y_test)\n",
    "    \n",
    "    # classification report\n",
    "    clf_report = classification_report(pred, Y_test)\n",
    "    \n",
    "    print('Evaluation of model', model,':')\n",
    "    print('Accuracy score:', accuracy)\n",
    "    print('Confusion matrix:\\n', cnf_matrix)\n",
    "    print('Classification report\\n', clf_report)\n",
    "    print('\\n\\n')"
   ]
  },
  {
   "cell_type": "markdown",
   "id": "2d137544",
   "metadata": {},
   "source": [
    "**From here we can see RandomForestClassifier is giving highest accuracy score so we will select that model.**"
   ]
  },
  {
   "cell_type": "markdown",
   "id": "a2861409",
   "metadata": {},
   "source": [
    "#### Final model training"
   ]
  },
  {
   "cell_type": "code",
   "execution_count": 64,
   "id": "4154ec9e",
   "metadata": {},
   "outputs": [
    {
     "data": {
      "text/html": [
       "<style>#sk-container-id-5 {color: black;background-color: white;}#sk-container-id-5 pre{padding: 0;}#sk-container-id-5 div.sk-toggleable {background-color: white;}#sk-container-id-5 label.sk-toggleable__label {cursor: pointer;display: block;width: 100%;margin-bottom: 0;padding: 0.3em;box-sizing: border-box;text-align: center;}#sk-container-id-5 label.sk-toggleable__label-arrow:before {content: \"▸\";float: left;margin-right: 0.25em;color: #696969;}#sk-container-id-5 label.sk-toggleable__label-arrow:hover:before {color: black;}#sk-container-id-5 div.sk-estimator:hover label.sk-toggleable__label-arrow:before {color: black;}#sk-container-id-5 div.sk-toggleable__content {max-height: 0;max-width: 0;overflow: hidden;text-align: left;background-color: #f0f8ff;}#sk-container-id-5 div.sk-toggleable__content pre {margin: 0.2em;color: black;border-radius: 0.25em;background-color: #f0f8ff;}#sk-container-id-5 input.sk-toggleable__control:checked~div.sk-toggleable__content {max-height: 200px;max-width: 100%;overflow: auto;}#sk-container-id-5 input.sk-toggleable__control:checked~label.sk-toggleable__label-arrow:before {content: \"▾\";}#sk-container-id-5 div.sk-estimator input.sk-toggleable__control:checked~label.sk-toggleable__label {background-color: #d4ebff;}#sk-container-id-5 div.sk-label input.sk-toggleable__control:checked~label.sk-toggleable__label {background-color: #d4ebff;}#sk-container-id-5 input.sk-hidden--visually {border: 0;clip: rect(1px 1px 1px 1px);clip: rect(1px, 1px, 1px, 1px);height: 1px;margin: -1px;overflow: hidden;padding: 0;position: absolute;width: 1px;}#sk-container-id-5 div.sk-estimator {font-family: monospace;background-color: #f0f8ff;border: 1px dotted black;border-radius: 0.25em;box-sizing: border-box;margin-bottom: 0.5em;}#sk-container-id-5 div.sk-estimator:hover {background-color: #d4ebff;}#sk-container-id-5 div.sk-parallel-item::after {content: \"\";width: 100%;border-bottom: 1px solid gray;flex-grow: 1;}#sk-container-id-5 div.sk-label:hover label.sk-toggleable__label {background-color: #d4ebff;}#sk-container-id-5 div.sk-serial::before {content: \"\";position: absolute;border-left: 1px solid gray;box-sizing: border-box;top: 0;bottom: 0;left: 50%;z-index: 0;}#sk-container-id-5 div.sk-serial {display: flex;flex-direction: column;align-items: center;background-color: white;padding-right: 0.2em;padding-left: 0.2em;position: relative;}#sk-container-id-5 div.sk-item {position: relative;z-index: 1;}#sk-container-id-5 div.sk-parallel {display: flex;align-items: stretch;justify-content: center;background-color: white;position: relative;}#sk-container-id-5 div.sk-item::before, #sk-container-id-5 div.sk-parallel-item::before {content: \"\";position: absolute;border-left: 1px solid gray;box-sizing: border-box;top: 0;bottom: 0;left: 50%;z-index: -1;}#sk-container-id-5 div.sk-parallel-item {display: flex;flex-direction: column;z-index: 1;position: relative;background-color: white;}#sk-container-id-5 div.sk-parallel-item:first-child::after {align-self: flex-end;width: 50%;}#sk-container-id-5 div.sk-parallel-item:last-child::after {align-self: flex-start;width: 50%;}#sk-container-id-5 div.sk-parallel-item:only-child::after {width: 0;}#sk-container-id-5 div.sk-dashed-wrapped {border: 1px dashed gray;margin: 0 0.4em 0.5em 0.4em;box-sizing: border-box;padding-bottom: 0.4em;background-color: white;}#sk-container-id-5 div.sk-label label {font-family: monospace;font-weight: bold;display: inline-block;line-height: 1.2em;}#sk-container-id-5 div.sk-label-container {text-align: center;}#sk-container-id-5 div.sk-container {/* jupyter's `normalize.less` sets `[hidden] { display: none; }` but bootstrap.min.css set `[hidden] { display: none !important; }` so we also need the `!important` here to be able to override the default hidden behavior on the sphinx rendered scikit-learn.org. See: https://github.com/scikit-learn/scikit-learn/issues/21755 */display: inline-block !important;position: relative;}#sk-container-id-5 div.sk-text-repr-fallback {display: none;}</style><div id=\"sk-container-id-5\" class=\"sk-top-container\"><div class=\"sk-text-repr-fallback\"><pre>RandomForestClassifier()</pre><b>In a Jupyter environment, please rerun this cell to show the HTML representation or trust the notebook. <br />On GitHub, the HTML representation is unable to render, please try loading this page with nbviewer.org.</b></div><div class=\"sk-container\" hidden><div class=\"sk-item\"><div class=\"sk-estimator sk-toggleable\"><input class=\"sk-toggleable__control sk-hidden--visually\" id=\"sk-estimator-id-5\" type=\"checkbox\" checked><label for=\"sk-estimator-id-5\" class=\"sk-toggleable__label sk-toggleable__label-arrow\">RandomForestClassifier</label><div class=\"sk-toggleable__content\"><pre>RandomForestClassifier()</pre></div></div></div></div></div>"
      ],
      "text/plain": [
       "RandomForestClassifier()"
      ]
     },
     "execution_count": 64,
     "metadata": {},
     "output_type": "execute_result"
    }
   ],
   "source": [
    "rf.fit(X_train, Y_train)"
   ]
  },
  {
   "cell_type": "code",
   "execution_count": 65,
   "id": "c08ac42f",
   "metadata": {},
   "outputs": [],
   "source": [
    "# making predictions on test data\n",
    "pred = rf.predict(X_test)"
   ]
  },
  {
   "cell_type": "code",
   "execution_count": 66,
   "id": "d8f13bfa",
   "metadata": {},
   "outputs": [
    {
     "name": "stdout",
     "output_type": "stream",
     "text": [
      "Accuracy score: 0.89375\n"
     ]
    }
   ],
   "source": [
    "# checking accuracy score\n",
    "print('Accuracy score:', accuracy_score(pred, Y_test))"
   ]
  },
  {
   "cell_type": "markdown",
   "id": "1556944e",
   "metadata": {},
   "source": [
    "**Model Accuracy is 89%.**"
   ]
  },
  {
   "cell_type": "code",
   "execution_count": 68,
   "id": "5ec5bfce",
   "metadata": {},
   "outputs": [
    {
     "name": "stdout",
     "output_type": "stream",
     "text": [
      "Confusion matrix:\n",
      " [[54  6]\n",
      " [11 89]]\n"
     ]
    }
   ],
   "source": [
    "# checking confusion matrix\n",
    "print('Confusion matrix:\\n', confusion_matrix(pred, Y_test))"
   ]
  },
  {
   "cell_type": "markdown",
   "id": "fdf0c298",
   "metadata": {},
   "source": [
    "**There are certain values in false positive rate and true positive rate because model is not 100% accurate.**"
   ]
  },
  {
   "cell_type": "code",
   "execution_count": 70,
   "id": "8b38cb96",
   "metadata": {},
   "outputs": [
    {
     "name": "stdout",
     "output_type": "stream",
     "text": [
      "Classification report:\n",
      "               precision    recall  f1-score   support\n",
      "\n",
      "           0       0.83      0.90      0.86        60\n",
      "           1       0.94      0.89      0.91       100\n",
      "\n",
      "    accuracy                           0.89       160\n",
      "   macro avg       0.88      0.90      0.89       160\n",
      "weighted avg       0.90      0.89      0.89       160\n",
      "\n"
     ]
    }
   ],
   "source": [
    "# checking cassification report\n",
    "print('Classification report:\\n', classification_report(pred, Y_test))"
   ]
  },
  {
   "cell_type": "markdown",
   "id": "8d598267",
   "metadata": {},
   "source": [
    "**Average accuracy of model is around 89%.**"
   ]
  },
  {
   "cell_type": "markdown",
   "id": "d46cb05d",
   "metadata": {},
   "source": [
    "### Model Evaluation"
   ]
  },
  {
   "cell_type": "markdown",
   "id": "7ca562c2",
   "metadata": {},
   "source": [
    "#### Cross Validation"
   ]
  },
  {
   "cell_type": "code",
   "execution_count": 71,
   "id": "3ad771aa",
   "metadata": {},
   "outputs": [],
   "source": [
    "# importing required model\n",
    "from sklearn.model_selection import cross_val_score"
   ]
  },
  {
   "cell_type": "code",
   "execution_count": 72,
   "id": "2f2be23a",
   "metadata": {},
   "outputs": [
    {
     "name": "stdout",
     "output_type": "stream",
     "text": [
      "At cross fold 2 mean score is 0.7826633165829145\n",
      "At cross fold 3 mean score is 0.8053624627606754\n",
      "At cross fold 4 mean score is 0.8190954773869348\n",
      "At cross fold 5 mean score is 0.8229716981132077\n",
      "At cross fold 6 mean score is 0.8267638793954583\n",
      "At cross fold 7 mean score is 0.8205469425776831\n",
      "At cross fold 8 mean score is 0.8382323232323232\n",
      "At cross fold 9 mean score is 0.8319997730110089\n",
      "At cross fold 10 mean score is 0.8281645569620254\n",
      "At cross fold 11 mean score is 0.827037498270375\n",
      "At cross fold 12 mean score is 0.8282451379466305\n",
      "At cross fold 13 mean score is 0.8307977057316029\n",
      "At cross fold 14 mean score is 0.8343403150733977\n"
     ]
    }
   ],
   "source": [
    "# using for loop to split data at different cross folds\n",
    "for i in range(2,15):\n",
    "    score = cross_val_score(rf, input_x, y1, cv = i )\n",
    "    mean_score = score.mean()\n",
    "    print('At cross fold', i,'mean score is', mean_score)"
   ]
  },
  {
   "cell_type": "markdown",
   "id": "ba633fe6",
   "metadata": {},
   "source": [
    "**There is not much difference in model accuracy and cross validation score it is between 0.06 to 0.11 so we can say that the data is neither underfitting nor overfitting.**"
   ]
  },
  {
   "cell_type": "markdown",
   "id": "542970a2",
   "metadata": {},
   "source": [
    "#### Hyperparameter Tuning"
   ]
  },
  {
   "cell_type": "markdown",
   "id": "b02e4b37",
   "metadata": {},
   "source": [
    "Let's do hyperparameter tuning of model maybe some accuracy will improve."
   ]
  },
  {
   "cell_type": "code",
   "execution_count": 73,
   "id": "c91f623e",
   "metadata": {},
   "outputs": [],
   "source": [
    "# importing required library\n",
    "from sklearn.model_selection import GridSearchCV"
   ]
  },
  {
   "cell_type": "code",
   "execution_count": 74,
   "id": "e876289c",
   "metadata": {},
   "outputs": [],
   "source": [
    "# making a dictionary of parameters\n",
    "params = {'n_estimators':[100,200,300,400,500], 'criterion': ['gini', 'entropy'], 'max_features': ['sqrt', 'log2']}\n",
    "\n",
    "# making instance for tuning and passing model and parameters\n",
    "gsv = GridSearchCV(rf, params)"
   ]
  },
  {
   "cell_type": "code",
   "execution_count": 75,
   "id": "a7fc00a6",
   "metadata": {},
   "outputs": [
    {
     "data": {
      "text/html": [
       "<style>#sk-container-id-6 {color: black;background-color: white;}#sk-container-id-6 pre{padding: 0;}#sk-container-id-6 div.sk-toggleable {background-color: white;}#sk-container-id-6 label.sk-toggleable__label {cursor: pointer;display: block;width: 100%;margin-bottom: 0;padding: 0.3em;box-sizing: border-box;text-align: center;}#sk-container-id-6 label.sk-toggleable__label-arrow:before {content: \"▸\";float: left;margin-right: 0.25em;color: #696969;}#sk-container-id-6 label.sk-toggleable__label-arrow:hover:before {color: black;}#sk-container-id-6 div.sk-estimator:hover label.sk-toggleable__label-arrow:before {color: black;}#sk-container-id-6 div.sk-toggleable__content {max-height: 0;max-width: 0;overflow: hidden;text-align: left;background-color: #f0f8ff;}#sk-container-id-6 div.sk-toggleable__content pre {margin: 0.2em;color: black;border-radius: 0.25em;background-color: #f0f8ff;}#sk-container-id-6 input.sk-toggleable__control:checked~div.sk-toggleable__content {max-height: 200px;max-width: 100%;overflow: auto;}#sk-container-id-6 input.sk-toggleable__control:checked~label.sk-toggleable__label-arrow:before {content: \"▾\";}#sk-container-id-6 div.sk-estimator input.sk-toggleable__control:checked~label.sk-toggleable__label {background-color: #d4ebff;}#sk-container-id-6 div.sk-label input.sk-toggleable__control:checked~label.sk-toggleable__label {background-color: #d4ebff;}#sk-container-id-6 input.sk-hidden--visually {border: 0;clip: rect(1px 1px 1px 1px);clip: rect(1px, 1px, 1px, 1px);height: 1px;margin: -1px;overflow: hidden;padding: 0;position: absolute;width: 1px;}#sk-container-id-6 div.sk-estimator {font-family: monospace;background-color: #f0f8ff;border: 1px dotted black;border-radius: 0.25em;box-sizing: border-box;margin-bottom: 0.5em;}#sk-container-id-6 div.sk-estimator:hover {background-color: #d4ebff;}#sk-container-id-6 div.sk-parallel-item::after {content: \"\";width: 100%;border-bottom: 1px solid gray;flex-grow: 1;}#sk-container-id-6 div.sk-label:hover label.sk-toggleable__label {background-color: #d4ebff;}#sk-container-id-6 div.sk-serial::before {content: \"\";position: absolute;border-left: 1px solid gray;box-sizing: border-box;top: 0;bottom: 0;left: 50%;z-index: 0;}#sk-container-id-6 div.sk-serial {display: flex;flex-direction: column;align-items: center;background-color: white;padding-right: 0.2em;padding-left: 0.2em;position: relative;}#sk-container-id-6 div.sk-item {position: relative;z-index: 1;}#sk-container-id-6 div.sk-parallel {display: flex;align-items: stretch;justify-content: center;background-color: white;position: relative;}#sk-container-id-6 div.sk-item::before, #sk-container-id-6 div.sk-parallel-item::before {content: \"\";position: absolute;border-left: 1px solid gray;box-sizing: border-box;top: 0;bottom: 0;left: 50%;z-index: -1;}#sk-container-id-6 div.sk-parallel-item {display: flex;flex-direction: column;z-index: 1;position: relative;background-color: white;}#sk-container-id-6 div.sk-parallel-item:first-child::after {align-self: flex-end;width: 50%;}#sk-container-id-6 div.sk-parallel-item:last-child::after {align-self: flex-start;width: 50%;}#sk-container-id-6 div.sk-parallel-item:only-child::after {width: 0;}#sk-container-id-6 div.sk-dashed-wrapped {border: 1px dashed gray;margin: 0 0.4em 0.5em 0.4em;box-sizing: border-box;padding-bottom: 0.4em;background-color: white;}#sk-container-id-6 div.sk-label label {font-family: monospace;font-weight: bold;display: inline-block;line-height: 1.2em;}#sk-container-id-6 div.sk-label-container {text-align: center;}#sk-container-id-6 div.sk-container {/* jupyter's `normalize.less` sets `[hidden] { display: none; }` but bootstrap.min.css set `[hidden] { display: none !important; }` so we also need the `!important` here to be able to override the default hidden behavior on the sphinx rendered scikit-learn.org. See: https://github.com/scikit-learn/scikit-learn/issues/21755 */display: inline-block !important;position: relative;}#sk-container-id-6 div.sk-text-repr-fallback {display: none;}</style><div id=\"sk-container-id-6\" class=\"sk-top-container\"><div class=\"sk-text-repr-fallback\"><pre>GridSearchCV(estimator=RandomForestClassifier(),\n",
       "             param_grid={&#x27;criterion&#x27;: [&#x27;gini&#x27;, &#x27;entropy&#x27;],\n",
       "                         &#x27;max_features&#x27;: [&#x27;sqrt&#x27;, &#x27;log2&#x27;],\n",
       "                         &#x27;n_estimators&#x27;: [100, 200, 300, 400, 500]})</pre><b>In a Jupyter environment, please rerun this cell to show the HTML representation or trust the notebook. <br />On GitHub, the HTML representation is unable to render, please try loading this page with nbviewer.org.</b></div><div class=\"sk-container\" hidden><div class=\"sk-item sk-dashed-wrapped\"><div class=\"sk-label-container\"><div class=\"sk-label sk-toggleable\"><input class=\"sk-toggleable__control sk-hidden--visually\" id=\"sk-estimator-id-6\" type=\"checkbox\" ><label for=\"sk-estimator-id-6\" class=\"sk-toggleable__label sk-toggleable__label-arrow\">GridSearchCV</label><div class=\"sk-toggleable__content\"><pre>GridSearchCV(estimator=RandomForestClassifier(),\n",
       "             param_grid={&#x27;criterion&#x27;: [&#x27;gini&#x27;, &#x27;entropy&#x27;],\n",
       "                         &#x27;max_features&#x27;: [&#x27;sqrt&#x27;, &#x27;log2&#x27;],\n",
       "                         &#x27;n_estimators&#x27;: [100, 200, 300, 400, 500]})</pre></div></div></div><div class=\"sk-parallel\"><div class=\"sk-parallel-item\"><div class=\"sk-item\"><div class=\"sk-label-container\"><div class=\"sk-label sk-toggleable\"><input class=\"sk-toggleable__control sk-hidden--visually\" id=\"sk-estimator-id-7\" type=\"checkbox\" ><label for=\"sk-estimator-id-7\" class=\"sk-toggleable__label sk-toggleable__label-arrow\">estimator: RandomForestClassifier</label><div class=\"sk-toggleable__content\"><pre>RandomForestClassifier()</pre></div></div></div><div class=\"sk-serial\"><div class=\"sk-item\"><div class=\"sk-estimator sk-toggleable\"><input class=\"sk-toggleable__control sk-hidden--visually\" id=\"sk-estimator-id-8\" type=\"checkbox\" ><label for=\"sk-estimator-id-8\" class=\"sk-toggleable__label sk-toggleable__label-arrow\">RandomForestClassifier</label><div class=\"sk-toggleable__content\"><pre>RandomForestClassifier()</pre></div></div></div></div></div></div></div></div></div></div>"
      ],
      "text/plain": [
       "GridSearchCV(estimator=RandomForestClassifier(),\n",
       "             param_grid={'criterion': ['gini', 'entropy'],\n",
       "                         'max_features': ['sqrt', 'log2'],\n",
       "                         'n_estimators': [100, 200, 300, 400, 500]})"
      ]
     },
     "execution_count": 75,
     "metadata": {},
     "output_type": "execute_result"
    }
   ],
   "source": [
    "# passing data for training\n",
    "gsv.fit(X_train, Y_train)"
   ]
  },
  {
   "cell_type": "code",
   "execution_count": 76,
   "id": "a60ae318",
   "metadata": {},
   "outputs": [
    {
     "name": "stdout",
     "output_type": "stream",
     "text": [
      "Best Parameter: {'criterion': 'entropy', 'max_features': 'log2', 'n_estimators': 200}\n",
      "Best score: 0.8096948818897637\n"
     ]
    }
   ],
   "source": [
    "# finding best parameter and that accuracy\n",
    "print('Best Parameter:', gsv.best_params_)\n",
    "print('Best score:', gsv.best_score_)"
   ]
  },
  {
   "cell_type": "markdown",
   "id": "2c187c6a",
   "metadata": {},
   "source": [
    "**Here we can see at best parameters model is giving less accuracy than default training.**"
   ]
  },
  {
   "cell_type": "markdown",
   "id": "79de26db",
   "metadata": {},
   "source": [
    "#### AUC_ROC Curve"
   ]
  },
  {
   "cell_type": "code",
   "execution_count": 77,
   "id": "92c6f22b",
   "metadata": {},
   "outputs": [],
   "source": [
    "# importing required libraries for it\n",
    "from sklearn.metrics import roc_curve\n",
    "from sklearn.metrics import roc_auc_score"
   ]
  },
  {
   "cell_type": "code",
   "execution_count": 79,
   "id": "b3e1aaa6",
   "metadata": {},
   "outputs": [],
   "source": [
    "# using predict_proba function for model RandomForestClassifier to predict the occurance of 1\n",
    "y_pred_prob = rf.predict_proba(X_test)[:,1]"
   ]
  },
  {
   "cell_type": "code",
   "execution_count": 80,
   "id": "ea986d66",
   "metadata": {},
   "outputs": [],
   "source": [
    "# using these predicted probability to find fpr (false positive rate), tpr (True Positive rate) and threshold values\n",
    "\n",
    "fpr, tpr, threshold = roc_curve(Y_test, y_pred_prob)"
   ]
  },
  {
   "cell_type": "code",
   "execution_count": 81,
   "id": "802a1cce",
   "metadata": {},
   "outputs": [
    {
     "data": {
      "image/png": "[encoded data removed]",
      "text/plain": [
       "<Figure size 432x288 with 1 Axes>"
      ]
     },
     "metadata": {
      "needs_background": "light"
     },
     "output_type": "display_data"
    }
   ],
   "source": [
    "# making auc_roc curve\n",
    "plt.plot([0,1],[0,1], 'k--')\n",
    "plt.plot(fpr,tpr)\n",
    "plt.title('RandomForestClassifier')\n",
    "plt.xlabel('False positive rate')\n",
    "plt.ylabel('True positive rate')\n",
    "plt.show()"
   ]
  },
  {
   "cell_type": "code",
   "execution_count": 82,
   "id": "6ff09605",
   "metadata": {},
   "outputs": [
    {
     "data": {
      "text/plain": [
       "0.8838056680161943"
      ]
     },
     "execution_count": 82,
     "metadata": {},
     "output_type": "execute_result"
    }
   ],
   "source": [
    "# checking roc_score\n",
    "score = roc_auc_score(Y_test, rf.predict(X_test))\n",
    "score"
   ]
  },
  {
   "cell_type": "markdown",
   "id": "586701e1",
   "metadata": {},
   "source": [
    "**The Graph is not straight because we can see the accuracy score of model is 88%**"
   ]
  },
  {
   "cell_type": "markdown",
   "id": "cd41d652",
   "metadata": {},
   "source": [
    "### Saving the best model"
   ]
  },
  {
   "cell_type": "code",
   "execution_count": 87,
   "id": "0d19cfed",
   "metadata": {},
   "outputs": [],
   "source": [
    "# importing required library\n",
    "import pickle"
   ]
  },
  {
   "cell_type": "code",
   "execution_count": 88,
   "id": "b6425873",
   "metadata": {},
   "outputs": [],
   "source": [
    "# making a file to save model into it\n",
    "filename = 'lnp.obj'"
   ]
  },
  {
   "cell_type": "code",
   "execution_count": 89,
   "id": "a65650eb",
   "metadata": {},
   "outputs": [],
   "source": [
    "# dumping the best model into the file by opening the file in write binary mode\n",
    "pickle.dump(rf, open(filename, 'wb'))"
   ]
  },
  {
   "cell_type": "markdown",
   "id": "29259c2e",
   "metadata": {},
   "source": [
    "### Loading the model"
   ]
  },
  {
   "cell_type": "code",
   "execution_count": 90,
   "id": "c9ac0dca",
   "metadata": {},
   "outputs": [],
   "source": [
    "# loading the file in read binary model in which model is saved\n",
    "loan = pickle.load(open('lnp.obj', 'rb'))"
   ]
  },
  {
   "cell_type": "code",
   "execution_count": 92,
   "id": "0faf70e1",
   "metadata": {},
   "outputs": [],
   "source": [
    "# making predictions on test_data\n",
    "pred = loan.predict(X_test)"
   ]
  },
  {
   "cell_type": "code",
   "execution_count": 98,
   "id": "e6e20a3b",
   "metadata": {},
   "outputs": [
    {
     "name": "stdout",
     "output_type": "stream",
     "text": [
      "Accuracy score: 0.89375\n"
     ]
    }
   ],
   "source": [
    "# checking accuracy score\n",
    "print('Accuracy score:', accuracy_score(pred, Y_test))"
   ]
  },
  {
   "cell_type": "markdown",
   "id": "2c9d3520",
   "metadata": {},
   "source": [
    "*Accuracy of model is 89%.*"
   ]
  },
  {
   "cell_type": "code",
   "execution_count": 99,
   "id": "d520d103",
   "metadata": {},
   "outputs": [
    {
     "data": {
      "text/html": [
       "<div>\n",
       "<style scoped>\n",
       "    .dataframe tbody tr th:only-of-type {\n",
       "        vertical-align: middle;\n",
       "    }\n",
       "\n",
       "    .dataframe tbody tr th {\n",
       "        vertical-align: top;\n",
       "    }\n",
       "\n",
       "    .dataframe thead th {\n",
       "        text-align: right;\n",
       "    }\n",
       "</style>\n",
       "<table border=\"1\" class=\"dataframe\">\n",
       "  <thead>\n",
       "    <tr style=\"text-align: right;\">\n",
       "      <th></th>\n",
       "      <th>0</th>\n",
       "      <th>1</th>\n",
       "      <th>2</th>\n",
       "      <th>3</th>\n",
       "      <th>4</th>\n",
       "      <th>5</th>\n",
       "      <th>6</th>\n",
       "      <th>7</th>\n",
       "      <th>8</th>\n",
       "      <th>9</th>\n",
       "      <th>...</th>\n",
       "      <th>150</th>\n",
       "      <th>151</th>\n",
       "      <th>152</th>\n",
       "      <th>153</th>\n",
       "      <th>154</th>\n",
       "      <th>155</th>\n",
       "      <th>156</th>\n",
       "      <th>157</th>\n",
       "      <th>158</th>\n",
       "      <th>159</th>\n",
       "    </tr>\n",
       "  </thead>\n",
       "  <tbody>\n",
       "    <tr>\n",
       "      <th>Predicted</th>\n",
       "      <td>0</td>\n",
       "      <td>1</td>\n",
       "      <td>1</td>\n",
       "      <td>1</td>\n",
       "      <td>0</td>\n",
       "      <td>1</td>\n",
       "      <td>1</td>\n",
       "      <td>0</td>\n",
       "      <td>1</td>\n",
       "      <td>1</td>\n",
       "      <td>...</td>\n",
       "      <td>0</td>\n",
       "      <td>0</td>\n",
       "      <td>0</td>\n",
       "      <td>1</td>\n",
       "      <td>1</td>\n",
       "      <td>0</td>\n",
       "      <td>1</td>\n",
       "      <td>1</td>\n",
       "      <td>1</td>\n",
       "      <td>0</td>\n",
       "    </tr>\n",
       "    <tr>\n",
       "      <th>Original</th>\n",
       "      <td>0</td>\n",
       "      <td>1</td>\n",
       "      <td>1</td>\n",
       "      <td>1</td>\n",
       "      <td>0</td>\n",
       "      <td>1</td>\n",
       "      <td>1</td>\n",
       "      <td>0</td>\n",
       "      <td>1</td>\n",
       "      <td>1</td>\n",
       "      <td>...</td>\n",
       "      <td>0</td>\n",
       "      <td>0</td>\n",
       "      <td>0</td>\n",
       "      <td>1</td>\n",
       "      <td>1</td>\n",
       "      <td>0</td>\n",
       "      <td>1</td>\n",
       "      <td>1</td>\n",
       "      <td>1</td>\n",
       "      <td>0</td>\n",
       "    </tr>\n",
       "  </tbody>\n",
       "</table>\n",
       "<p>2 rows × 160 columns</p>\n",
       "</div>"
      ],
      "text/plain": [
       "           0    1    2    3    4    5    6    7    8    9    ...  150  151  \\\n",
       "Predicted    0    1    1    1    0    1    1    0    1    1  ...    0    0   \n",
       "Original     0    1    1    1    0    1    1    0    1    1  ...    0    0   \n",
       "\n",
       "           152  153  154  155  156  157  158  159  \n",
       "Predicted    0    1    1    0    1    1    1    0  \n",
       "Original     0    1    1    0    1    1    1    0  \n",
       "\n",
       "[2 rows x 160 columns]"
      ]
     },
     "execution_count": 99,
     "metadata": {},
     "output_type": "execute_result"
    }
   ],
   "source": [
    "# making dataframe of predictions\n",
    "pd.DataFrame([loan.predict(X_test)[:], Y_test[:]],index = ['Predicted', 'Original'])"
   ]
  },
  {
   "cell_type": "markdown",
   "id": "eea8aca1",
   "metadata": {},
   "source": [
    "**From here we can see that the model is making quite good predictions.**"
   ]
  },
  {
   "cell_type": "code",
   "execution_count": null,
   "id": "9f0b7d79",
   "metadata": {},
   "outputs": [],
   "source": []
  }
 ],
 "metadata": {
  "kernelspec": {
   "display_name": "Python 3 (ipykernel)",
   "language": "python",
   "name": "python3"
  },
  "language_info": {
   "codemirror_mode": {
    "name": "ipython",
    "version": 3
   },
   "file_extension": ".py",
   "mimetype": "text/x-python",
   "name": "python",
   "nbconvert_exporter": "python",
   "pygments_lexer": "ipython3",
   "version": "3.9.12"
  }
 },
 "nbformat": 4,
 "nbformat_minor": 5
}
